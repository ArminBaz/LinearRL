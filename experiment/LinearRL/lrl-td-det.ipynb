{
 "cells": [
  {
   "cell_type": "code",
   "execution_count": 40,
   "metadata": {},
   "outputs": [],
   "source": [
    "import os\n",
    "\n",
    "import numpy as np\n",
    "import gymnasium as gym\n",
    "import matplotlib.pyplot as plt\n",
    "from matplotlib import patches\n",
    "import matplotlib.animation as manimation\n",
    "\n",
    "import gym_env\n",
    "from render_utils import render_maze, render_DR, render_V, make_plots, record_trials, get_map"
   ]
  },
  {
   "cell_type": "code",
   "execution_count": 51,
   "metadata": {},
   "outputs": [],
   "source": [
    "def record_trajectory(agent, traj):\n",
    "    fig, ax = plt.subplots()\n",
    "\n",
    "    m = get_map(agent)\n",
    "    \n",
    "    # Display maze\n",
    "    cmap = plt.cm.Greys_r\n",
    "    cmap.set_bad('black', 1.0)\n",
    "    ax.imshow(m, origin='upper', cmap=cmap)\n",
    "    # Display agent\n",
    "    agent_loc = patches.Circle((agent.start_loc[1],agent.start_loc[0]), radius=0.4, fill=True, color='blue')\n",
    "    ax.add_patch(agent_loc)\n",
    "    # Display Reward\n",
    "    reward = patches.Circle((agent.target_loc[1],agent.target_loc[0]), radius=0.4, fill=True, color='green')\n",
    "    ax.add_patch(reward)\n",
    "\n",
    "    # loop through trajectory and add arrows\n",
    "    for i in range(0,len(traj)-1):\n",
    "        diff = traj[i+1] - traj[i]\n",
    "        arrow = patches.Arrow(x=traj[i][1], y=traj[i][0], dx=0.3*diff[1], dy=0.5*diff[0], color=\"red\")\n",
    "        # arrow = patches.Arrow((loc[1],loc[0]), fill=True, color='red')\n",
    "        ax.add_patch(arrow)\n",
    "\n",
    "    ax.set_title('Map')\n",
    "    ax.set_axis_off()"
   ]
  },
  {
   "cell_type": "code",
   "execution_count": 23,
   "metadata": {},
   "outputs": [],
   "source": [
    "class LinearRL:\n",
    "    def __init__(self, env_name, alpha, gamma, epsilon=0.4, num_steps=25000):\n",
    "        self.env = gym.make(env_name)\n",
    "        self.start_loc = self.env.unwrapped.start_loc\n",
    "        self.target_loc = self.env.unwrapped.target_loc\n",
    "        self.maze = self.env.unwrapped.maze\n",
    "        self.size = self.maze.size\n",
    "        self.height, self.width = self.maze.shape\n",
    "        self.target_locs = [self.target_loc]\n",
    "        self.mapping = self.create_transition_matrix_mapping()\n",
    "        self.T = self.get_transition_matrix(size=self.size, mapping=self.mapping)\n",
    "\n",
    "        # Get terminal states\n",
    "        self.terminals = np.diag(self.T) == 1\n",
    "        # Calculate P = T_{NT}\n",
    "        self.P = self.T[~self.terminals][:,self.terminals]\n",
    "        # self.P = self.T[:, self.terminals]\n",
    "        # Calculate reward\n",
    "        self.r = np.full(len(self.T), -1)     # our reward at each non-terminal state to be -1\n",
    "        self.r[self.terminals] = 10           # reward at terminal state is 10\n",
    "        self.expr = np.exp(self.r[self.terminals] / gamma)\n",
    "\n",
    "        # Params\n",
    "        self.alpha = alpha\n",
    "        self.gamma = gamma\n",
    "        self.epsilon = epsilon\n",
    "        self.num_steps = num_steps\n",
    "\n",
    "        # Model\n",
    "        self.DR = np.eye(self.size)\n",
    "        # self.DR = np.zeros((self.size, self.size))\n",
    "        self.Z = np.zeros(self.size)\n",
    "        self.V = np.zeros(self.size)\n",
    "        self.one_hot = np.eye(self.size)\n",
    "    \n",
    "    def create_transition_matrix_mapping(self):\n",
    "        \"\"\"\n",
    "        Creates a mapping from maze state indices to transition matrix indices\n",
    "        \"\"\"\n",
    "        n = len(self.maze)  # Size of the maze (N)\n",
    "\n",
    "        mapping = {}\n",
    "        matrix_idx = 0\n",
    "\n",
    "        for i in range(n):\n",
    "            for j in range(n):\n",
    "                mapping[(i,j)] = matrix_idx\n",
    "                matrix_idx += 1\n",
    "\n",
    "        return mapping\n",
    "    \n",
    "    def get_transition_matrix(self, size, mapping):\n",
    "        T = np.zeros(shape=(size, size))\n",
    "        # loop through the maze\n",
    "        for row in range(self.maze.shape[0]):\n",
    "            for col in range(self.maze.shape[1]):            \n",
    "                # if we hit a barrier\n",
    "                if self.maze[row,col] == '1':\n",
    "                    continue\n",
    "\n",
    "                idx_cur = mapping[row, col]\n",
    "\n",
    "                # check if current state is terminal\n",
    "                if self.maze[row,col] == 'G':\n",
    "                    T[idx_cur, idx_cur] = 1\n",
    "                    continue\n",
    "\n",
    "                state = (row,col)\n",
    "                successor_states = self.env.unwrapped.get_successor_states(state)\n",
    "                for successor_state in successor_states:\n",
    "                    idx_new = mapping[successor_state[0][0], successor_state[0][1]]\n",
    "                    T[idx_cur, idx_new] = 1/len(successor_states)\n",
    "        \n",
    "        return T\n",
    "    \n",
    "    def update_V(self):\n",
    "        self.Z[~self.terminals] = self.DR[~self.terminals][:,~self.terminals] @ self.P @ self.expr\n",
    "        self.Z[self.terminals] = np.exp(self.r[self.terminals] / self.gamma)\n",
    "        self.V = np.round(np.log(self.Z), 2)\n",
    "    \n",
    "    def importance_sampling(self, state, s_new_idx):\n",
    "        successor_states = self.env.unwrapped.get_successor_states(state)\n",
    "        p = 1/len(successor_states)\n",
    "        w = (p * self.Z[s_new_idx]) / sum(p * self.Z[self.mapping[(s[0][0],s[0][1])]] for s in successor_states)\n",
    "        \n",
    "        return w\n",
    "    \n",
    "    def select_action(self, state, policy=\"e-greedy\", epsilon=0.0, target_loc=None):\n",
    "        if policy == \"softmax\":\n",
    "            return\n",
    "        elif policy == \"e-greedy\":\n",
    "            if np.random.uniform(low=0,high=1) < epsilon:\n",
    "                return self.env.unwrapped.random_action()\n",
    "            else:\n",
    "                action_values = np.full(self.env.action_space.n, -np.inf)\n",
    "                for action in self.env.unwrapped.get_available_actions(state):\n",
    "                    direction = self.env.unwrapped._action_to_direction[action]\n",
    "                    new_state = state + direction\n",
    "                    if self.maze[new_state[0], new_state[1]] == \"1\":\n",
    "                        continue\n",
    "                    action_values[action] = round(np.log(self.Z[self.mapping[(new_state[0],new_state[1])]]), 2)\n",
    "\n",
    "                return np.argmax(action_values)\n",
    "        elif policy == \"test\":\n",
    "            action_values = np.full(self.env.action_space.n, -np.inf)\n",
    "            for action in self.env.unwrapped.get_available_actions(state):\n",
    "                direction = self.env.unwrapped._action_to_direction[action]\n",
    "                new_state = state + direction\n",
    "\n",
    "                # Need this to make it work for now\n",
    "                if np.array_equal(new_state, target_loc):\n",
    "                    return action\n",
    "\n",
    "                if self.maze[new_state[0], new_state[1]] == \"1\":\n",
    "                    continue\n",
    "                action_values[action] = round(np.log(self.Z[self.mapping[(new_state[0],new_state[1])]]), 2)\n",
    "\n",
    "            return np.argmax(action_values)\n",
    "    \n",
    "    def learn(self):\n",
    "        \"\"\"\n",
    "        Agent randomly explores the maze and and updates its DR as it goes\n",
    "        \"\"\"\n",
    "        self.env.reset()\n",
    "\n",
    "        # Iterate through number of steps\n",
    "        for i in range(self.num_steps):\n",
    "            # Current state\n",
    "            state = self.env.unwrapped.agent_loc\n",
    "            state_idx = self.mapping[(state[0], state[1])]\n",
    "\n",
    "            # Choose action (random for now)\n",
    "            action = self.env.unwrapped.random_action()\n",
    "            # action = self.select_action(state, epsilon=self.epsilon)\n",
    "\n",
    "            # Take action\n",
    "            obs, _, done, _, _ = self.env.step(action)\n",
    "\n",
    "            if done:\n",
    "                self.env.reset()\n",
    "                continue\n",
    "\n",
    "            # Unpack observation to get new state\n",
    "            next_state = obs[\"agent\"]\n",
    "            next_state_idx = self.mapping[(next_state[0], next_state[1])]\n",
    "\n",
    "            # Update Default Representation\n",
    "            # w = self.importance_sampling(state, next_state_idx)\n",
    "            # w = 1 if np.isnan(w) or w == 0 else w\n",
    "            w = 1\n",
    "            TDE =  self.one_hot[state_idx][~self.terminals] + self.gamma * self.DR[next_state_idx][~self.terminals]\n",
    "            # TDE =  self.one_hot[state_idx] + self.gamma * self.DR[next_state_idx]\n",
    "\n",
    "            self.DR[state_idx][~self.terminals] = (1 - self.alpha) * self.DR[state_idx][~self.terminals] + self.alpha * TDE * w\n",
    "            # self.DR[state_idx] = (1 - self.alpha) * self.DR[state_idx] + self.alpha * TDE * w\n",
    "\n",
    "\n",
    "            # Update Z-Values\n",
    "            self.Z[state_idx] = self.DR[state_idx][~self.terminals] @ self.P @ self.expr\n",
    "            # self.Z[state_idx] = self.DR[state_idx] @ self.P @ self.expr\n",
    "\n",
    "            # Update state\n",
    "            state = next_state\n",
    "        \n",
    "        self.Z[self.terminals] = np.exp(self.r[self.terminals] / self.gamma)\n",
    "        self.V = np.round(np.log(self.Z), 2)"
   ]
  },
  {
   "cell_type": "code",
   "execution_count": 44,
   "metadata": {},
   "outputs": [],
   "source": [
    "def test_agent(agent, state=None):\n",
    "    traj = []\n",
    "\n",
    "    agent.env.reset()\n",
    "    if state is None:\n",
    "        state = agent.start_loc\n",
    "\n",
    "    # set the start and agent location\n",
    "    agent.env.unwrapped.start_loc, agent.env.unwrapped.agent_loc = state, state\n",
    "    print(f\"Starting in state: {state}\")\n",
    "    steps = 0\n",
    "    done = False\n",
    "    while not done:\n",
    "        action = agent.select_action(state, policy=\"test\", target_loc=agent.target_loc)\n",
    "        obs, _, done, _, _ = agent.env.step(action)\n",
    "        next_state = obs[\"agent\"]\n",
    "        traj.append(next_state)\n",
    "        print(f\"Took action: {action} and arrived in state: {next_state}\")\n",
    "\n",
    "        steps += 1\n",
    "        state = next_state\n",
    "    print(f\"Took {steps} steps\")\n",
    "\n",
    "    return traj"
   ]
  },
  {
   "cell_type": "code",
   "execution_count": 25,
   "metadata": {},
   "outputs": [],
   "source": [
    "agent = LinearRL(env_name=\"tolman-9x9-nb\", alpha=0.01, gamma=1.0, num_steps=800000)"
   ]
  },
  {
   "cell_type": "code",
   "execution_count": 26,
   "metadata": {},
   "outputs": [
    {
     "name": "stderr",
     "output_type": "stream",
     "text": [
      "/Users/abizzle/anaconda3/envs/gym/lib/python3.10/site-packages/gymnasium/utils/passive_env_checker.py:181: DeprecationWarning: \u001b[33mWARN: Current gymnasium version requires that `Env.reset` can be passed `options` to allow the environment initialisation to be passed additional information.\u001b[0m\n",
      "  logger.deprecation(\n",
      "/var/folders/sf/4_xlxj4j2r1_sx5v07843wbw0000gn/T/ipykernel_66425/3774389332.py:166: RuntimeWarning: divide by zero encountered in log\n",
      "  self.V = np.round(np.log(self.Z), 2)\n"
     ]
    }
   ],
   "source": [
    "# Run learning on non-blocked detour environment\n",
    "agent.learn()"
   ]
  },
  {
   "cell_type": "code",
   "execution_count": 27,
   "metadata": {},
   "outputs": [
    {
     "data": {
      "image/png": "[encoded data removed]",
      "text/plain": [
       "<Figure size 921.6x691.2 with 3 Axes>"
      ]
     },
     "metadata": {},
     "output_type": "display_data"
    }
   ],
   "source": [
    "make_plots(agent)"
   ]
  },
  {
   "cell_type": "code",
   "execution_count": 45,
   "metadata": {},
   "outputs": [
    {
     "name": "stdout",
     "output_type": "stream",
     "text": [
      "Start location: [0 3], Target location: [8 3]\n",
      "Starting in state: [0 3]\n",
      "Took action: 0 and arrived in state: [1 3]\n",
      "Took action: 0 and arrived in state: [2 3]\n",
      "Took action: 0 and arrived in state: [3 3]\n",
      "Took action: 0 and arrived in state: [4 3]\n",
      "Took action: 0 and arrived in state: [5 3]\n",
      "Took action: 0 and arrived in state: [6 3]\n",
      "Took action: 0 and arrived in state: [7 3]\n",
      "Took action: 0 and arrived in state: [8 3]\n",
      "Took 8 steps\n"
     ]
    }
   ],
   "source": [
    "print(f\"Start location: {agent.start_loc}, Target location: {agent.target_loc}\")\n",
    "traj_not_blocked = test_agent(agent)"
   ]
  },
  {
   "cell_type": "code",
   "execution_count": 52,
   "metadata": {},
   "outputs": [
    {
     "data": {
      "image/png": "[encoded data removed]",
      "text/plain": [
       "<Figure size 640x480 with 1 Axes>"
      ]
     },
     "metadata": {},
     "output_type": "display_data"
    }
   ],
   "source": [
    "record_trajectory(agent, traj_not_blocked)"
   ]
  },
  {
   "cell_type": "code",
   "execution_count": 30,
   "metadata": {},
   "outputs": [],
   "source": [
    "# L0 = np.diag(np.exp(-agent.r)/agent.gamma) - agent.T\n",
    "# D0 = np.linalg.inv(L0)\n",
    "\n",
    "# print(np.mean(np.square(agent.DR - D0)))"
   ]
  },
  {
   "cell_type": "markdown",
   "metadata": {},
   "source": [
    "## Detour"
   ]
  },
  {
   "cell_type": "code",
   "execution_count": 31,
   "metadata": {},
   "outputs": [],
   "source": [
    "# Get new maze and initialize a new agent\n",
    "env_blocked = gym.make(\"tolman-9x9-b\")\n",
    "maze_blocked = env_blocked.unwrapped.maze\n",
    "new_agent = LinearRL(env_name=\"tolman-9x9-b\", alpha=0.1, gamma=0.8)"
   ]
  },
  {
   "cell_type": "code",
   "execution_count": 32,
   "metadata": {},
   "outputs": [
    {
     "data": {
      "text/plain": [
       "array([['1', '1', '1', 'S', '1', '1', '1', '1', '1'],\n",
       "       ['1', '1', '1', '0', '1', '1', '1', '1', '1'],\n",
       "       ['0', '0', '0', '0', '0', '0', '0', '0', '0'],\n",
       "       ['0', '1', '1', '0', '1', '1', '1', '1', '0'],\n",
       "       ['0', '1', '1', '1', '1', '1', '1', '1', '0'],\n",
       "       ['0', '1', '1', '0', '1', '1', '1', '1', '0'],\n",
       "       ['0', '0', '0', '0', '0', '0', '0', '0', '0'],\n",
       "       ['1', '1', '1', '0', '1', '1', '1', '1', '1'],\n",
       "       ['1', '1', '1', 'G', '1', '1', '1', '1', '1']], dtype='<U21')"
      ]
     },
     "execution_count": 32,
     "metadata": {},
     "output_type": "execute_result"
    }
   ],
   "source": [
    "maze_blocked"
   ]
  },
  {
   "cell_type": "code",
   "execution_count": 33,
   "metadata": {},
   "outputs": [],
   "source": [
    "loc = (4,3)\n",
    "idx = agent.mapping[loc]"
   ]
  },
  {
   "cell_type": "code",
   "execution_count": 34,
   "metadata": {},
   "outputs": [],
   "source": [
    "D0 = agent.DR\n",
    "L0 = np.diag(np.exp(-agent.r)) - agent.T\n",
    "L = np.diag(np.exp(-agent.r)) - new_agent.T"
   ]
  },
  {
   "cell_type": "code",
   "execution_count": 35,
   "metadata": {},
   "outputs": [
    {
     "name": "stdout",
     "output_type": "stream",
     "text": [
      "d shape: (1, 81), m0 shape: (81, 1)\n",
      "numerator shape: (81, 81)\n",
      "denominator shape: (1, 1)\n",
      "alpha shape: (81, 81)\n"
     ]
    }
   ],
   "source": [
    "changes = []\n",
    "\n",
    "d = L[idx, :] - L0[idx, :]\n",
    "m0 = D0[:,idx]\n",
    "\n",
    "# Convert d to a row vector of size (1, m)\n",
    "d = d.reshape(1, -1)\n",
    "\n",
    "# Convert m0 to a column vector of size (m, 1)\n",
    "m0 = m0.reshape(-1, 1)\n",
    "\n",
    "print(f\"d shape: {d.shape}, m0 shape: {m0.shape}\")\n",
    "print(f\"numerator shape: {(np.dot(m0,d)).shape}\")\n",
    "print(f\"denominator shape: {(np.dot(d, m0)).shape}\")\n",
    "alpha = (np.dot(m0,d)) / (1 + (np.dot(d,m0)))\n",
    "print(f\"alpha shape: {alpha.shape}\")\n",
    "change = np.dot(alpha,D0)\n",
    "changes.append(change)\n",
    "\n",
    "D = np.copy(D0)\n",
    "for change in changes:\n",
    "    D -= change"
   ]
  },
  {
   "cell_type": "code",
   "execution_count": 36,
   "metadata": {},
   "outputs": [
    {
     "name": "stderr",
     "output_type": "stream",
     "text": [
      "/var/folders/sf/4_xlxj4j2r1_sx5v07843wbw0000gn/T/ipykernel_66425/3774389332.py:79: RuntimeWarning: divide by zero encountered in log\n",
      "  self.V = np.round(np.log(self.Z), 2)\n",
      "/var/folders/sf/4_xlxj4j2r1_sx5v07843wbw0000gn/T/ipykernel_66425/3774389332.py:79: RuntimeWarning: invalid value encountered in log\n",
      "  self.V = np.round(np.log(self.Z), 2)\n"
     ]
    }
   ],
   "source": [
    "new_agent.DR = D\n",
    "new_agent.update_V()"
   ]
  },
  {
   "cell_type": "code",
   "execution_count": 37,
   "metadata": {},
   "outputs": [
    {
     "data": {
      "text/plain": [
       "array([ -inf,  -inf,  -inf, 10.36,  -inf,  -inf,  -inf,  -inf,  -inf,\n",
       "        -inf,  -inf,  -inf, 10.38,  -inf,  -inf,  -inf,  -inf,  -inf,\n",
       "       11.17, 10.99, 10.73, 10.44, 10.61, 10.79, 10.95, 11.08, 11.21,\n",
       "       11.38,  -inf,  -inf,  9.67,  -inf,  -inf,  -inf,  -inf, 11.31,\n",
       "       11.53,  -inf,  -inf,   nan,  -inf,  -inf,  -inf,  -inf, 11.41,\n",
       "       11.68,  -inf,  -inf, 11.43,  -inf,  -inf,  -inf,  -inf, 11.52,\n",
       "       11.81, 11.92, 12.02, 12.16, 12.04, 11.95, 11.84, 11.75, 11.64,\n",
       "        -inf,  -inf,  -inf, 12.68,  -inf,  -inf,  -inf,  -inf,  -inf,\n",
       "        -inf,  -inf,  -inf, 12.5 ,  -inf,  -inf,  -inf,  -inf,  -inf])"
      ]
     },
     "execution_count": 37,
     "metadata": {},
     "output_type": "execute_result"
    }
   ],
   "source": [
    "new_agent.V"
   ]
  },
  {
   "cell_type": "code",
   "execution_count": 39,
   "metadata": {},
   "outputs": [
    {
     "data": {
      "text/plain": [
       "array([['1', '1', '1', 'S', '1', '1', '1', '1', '1'],\n",
       "       ['1', '1', '1', '0', '1', '1', '1', '1', '1'],\n",
       "       ['0', '0', '0', '0', '0', '0', '0', '0', '0'],\n",
       "       ['0', '1', '1', '0', '1', '1', '1', '1', '0'],\n",
       "       ['0', '1', '1', '1', '1', '1', '1', '1', '0'],\n",
       "       ['0', '1', '1', '0', '1', '1', '1', '1', '0'],\n",
       "       ['0', '0', '0', '0', '0', '0', '0', '0', '0'],\n",
       "       ['1', '1', '1', '0', '1', '1', '1', '1', '1'],\n",
       "       ['1', '1', '1', 'G', '1', '1', '1', '1', '1']], dtype='<U21')"
      ]
     },
     "execution_count": 39,
     "metadata": {},
     "output_type": "execute_result"
    }
   ],
   "source": [
    "new_agent.maze"
   ]
  },
  {
   "cell_type": "code",
   "execution_count": 47,
   "metadata": {},
   "outputs": [
    {
     "name": "stdout",
     "output_type": "stream",
     "text": [
      "Testing new agent with blocked environment\n",
      "Start location: [0 3], Target location: [8 3]\n",
      "Starting in state: [0 3]\n",
      "Took action: 0 and arrived in state: [1 3]\n",
      "Took action: 0 and arrived in state: [2 3]\n",
      "Took action: 3 and arrived in state: [2 2]\n",
      "Took action: 3 and arrived in state: [2 1]\n",
      "Took action: 3 and arrived in state: [2 0]\n",
      "Took action: 0 and arrived in state: [3 0]\n",
      "Took action: 0 and arrived in state: [4 0]\n",
      "Took action: 0 and arrived in state: [5 0]\n",
      "Took action: 0 and arrived in state: [6 0]\n",
      "Took action: 1 and arrived in state: [6 1]\n",
      "Took action: 1 and arrived in state: [6 2]\n",
      "Took action: 1 and arrived in state: [6 3]\n",
      "Took action: 0 and arrived in state: [7 3]\n",
      "Took action: 0 and arrived in state: [8 3]\n",
      "Took 14 steps\n"
     ]
    }
   ],
   "source": [
    "print(\"Testing new agent with blocked environment\")\n",
    "print(f\"Start location: {new_agent.start_loc}, Target location: {new_agent.target_loc}\")\n",
    "traj_blocked = test_agent(new_agent)"
   ]
  },
  {
   "cell_type": "code",
   "execution_count": 53,
   "metadata": {},
   "outputs": [
    {
     "data": {
      "image/png": "[encoded data removed]",
      "text/plain": [
       "<Figure size 640x480 with 1 Axes>"
      ]
     },
     "metadata": {},
     "output_type": "display_data"
    }
   ],
   "source": [
    "record_trajectory(new_agent, traj_blocked)"
   ]
  },
  {
   "cell_type": "code",
   "execution_count": null,
   "metadata": {},
   "outputs": [],
   "source": []
  }
 ],
 "metadata": {
  "kernelspec": {
   "display_name": "gym",
   "language": "python",
   "name": "python3"
  },
  "language_info": {
   "codemirror_mode": {
    "name": "ipython",
    "version": 3
   },
   "file_extension": ".py",
   "mimetype": "text/x-python",
   "name": "python",
   "nbconvert_exporter": "python",
   "pygments_lexer": "ipython3",
   "version": "3.10.0"
  }
 },
 "nbformat": 4,
 "nbformat_minor": 2
}
