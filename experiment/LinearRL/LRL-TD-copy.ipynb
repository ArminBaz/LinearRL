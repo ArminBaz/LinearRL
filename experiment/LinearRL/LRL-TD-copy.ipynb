{
 "cells": [
  {
   "cell_type": "code",
   "execution_count": 3,
   "metadata": {},
   "outputs": [],
   "source": [
    "import os\n",
    "\n",
    "import numpy as np\n",
    "import gymnasium as gym\n",
    "\n",
    "import gym_env"
   ]
  },
  {
   "cell_type": "code",
   "execution_count": 4,
   "metadata": {},
   "outputs": [
    {
     "data": {
      "text/plain": [
       "({'agent': array([0, 0]), 'target': array([4, 4])}, {'distance': 8.0})"
      ]
     },
     "execution_count": 4,
     "metadata": {},
     "output_type": "execute_result"
    }
   ],
   "source": [
    "# Construct the environment\n",
    "env = gym.make(\"simple-5x5\")\n",
    "env.reset()"
   ]
  },
  {
   "cell_type": "code",
   "execution_count": 5,
   "metadata": {},
   "outputs": [],
   "source": [
    "actions = np.arange(env.action_space.n, dtype=int)\n",
    "start_loc = env.unwrapped.start_loc\n",
    "target_loc = env.unwrapped.target_loc\n",
    "maze = env.unwrapped.maze\n",
    "size = maze.size\n",
    "target_locs = [target_loc]"
   ]
  },
  {
   "cell_type": "code",
   "execution_count": 6,
   "metadata": {},
   "outputs": [
    {
     "name": "stdout",
     "output_type": "stream",
     "text": [
      "actions: [0 1 2 3], start loc: [0 0], target loc: [4 4], size: 25\n"
     ]
    }
   ],
   "source": [
    "print(f\"actions: {actions}, start loc: {start_loc}, target loc: {target_loc}, size: {size}\")\n"
   ]
  },
  {
   "cell_type": "code",
   "execution_count": 7,
   "metadata": {},
   "outputs": [],
   "source": [
    "def get_blocked_states(maze):\n",
    "    blocked_states = []\n",
    "\n",
    "    for i in range(maze.shape[0]):\n",
    "        for j in range(maze.shape[1]):\n",
    "            if maze[i,j] == \"1\":\n",
    "                blocked_states.append((i,j))\n",
    "    \n",
    "    return blocked_states"
   ]
  },
  {
   "cell_type": "code",
   "execution_count": 8,
   "metadata": {},
   "outputs": [],
   "source": [
    "def create_transition_matrix_mapping(maze):\n",
    "    \"\"\"\n",
    "    Creates a mapping from maze state indices to transition matrix indices\n",
    "    Returns for both the full maze (mapping_b), and the maze with no borders (mapping_nb)\n",
    "    \"\"\"\n",
    "    blocked_states = get_blocked_states(maze)\n",
    "    n = len(maze)  # Size of the maze (N)\n",
    "\n",
    "    mapping_nb, mapping_b = {}, {}\n",
    "    matrix_idx_nb, matrix_idx_b = 0, 0\n",
    "\n",
    "    for i in range(n):\n",
    "        for j in range(n):\n",
    "            # If we higt a blocked state\n",
    "            if (i, j) not in blocked_states:\n",
    "                mapping_nb[(i, j)] = matrix_idx_nb\n",
    "                matrix_idx_nb += 1\n",
    "            mapping_b[(i,j)] = matrix_idx_b\n",
    "            matrix_idx_b += 1\n",
    "\n",
    "    return mapping_nb, mapping_b"
   ]
  },
  {
   "cell_type": "code",
   "execution_count": 9,
   "metadata": {},
   "outputs": [],
   "source": [
    "mapping_nb, mapping_b = create_transition_matrix_mapping(maze)\n",
    "reverse_mapping_nb = {index: (i, j) for (i, j), index in mapping_nb.items()}\n",
    "reverse_mapping_b = {index: (i, j) for (i, j), index in mapping_b.items()}"
   ]
  },
  {
   "cell_type": "code",
   "execution_count": 10,
   "metadata": {},
   "outputs": [],
   "source": [
    "def get_transition_matrix(size, mapping):\n",
    "    T = np.zeros(shape=(size, size))\n",
    "    # loop through the maze\n",
    "    for row in range(maze.shape[0]):\n",
    "        for col in range(maze.shape[1]):            \n",
    "            # if we hit a barrier\n",
    "            if maze[row,col] == '1':\n",
    "                continue\n",
    "\n",
    "            idx_cur = mapping[row, col]\n",
    "\n",
    "            # check if current state is terminal\n",
    "            if maze[row,col] == 'G':\n",
    "                T[idx_cur, idx_cur] = 1\n",
    "                continue\n",
    "\n",
    "            state = (row,col)\n",
    "            successor_states = env.unwrapped.get_successor_states(state)\n",
    "            for successor_state in successor_states:\n",
    "                idx_new = mapping[successor_state[0][0], successor_state[0][1]]\n",
    "                T[idx_cur, idx_new] = 1\n",
    "    \n",
    "    return T"
   ]
  },
  {
   "cell_type": "code",
   "execution_count": 11,
   "metadata": {},
   "outputs": [],
   "source": [
    "def select_action(policy):\n",
    "    epsilon = 0.2\n",
    "    if policy == \"softmax\":\n",
    "        return\n",
    "    elif policy == \"e-greedy\":\n",
    "        if np.random.uniform(low=0,high=1) < epsilon:\n",
    "            return random_action\n",
    "        else:\n",
    "            return max_action"
   ]
  },
  {
   "cell_type": "code",
   "execution_count": 12,
   "metadata": {},
   "outputs": [],
   "source": [
    "def one_hot_row(s_idx, size):\n",
    "    row = np.zeros(size) \n",
    "    row[s_idx] = 1\n",
    "\n",
    "    return row"
   ]
  },
  {
   "cell_type": "code",
   "execution_count": 13,
   "metadata": {},
   "outputs": [],
   "source": [
    "T = get_transition_matrix(size=size, mapping=mapping_b)"
   ]
  },
  {
   "cell_type": "code",
   "execution_count": 14,
   "metadata": {},
   "outputs": [],
   "source": [
    "# Get terminal states\n",
    "terminals = np.diag(T) == 1\n",
    "\n",
    "# Calculate P = T_{NT}\n",
    "P = T[~terminals][:,terminals]\n",
    "\n",
    "# Calculate reward\n",
    "r = np.full(len(T), -1)     # our reward at each non-terminal state to be -1\n",
    "r[terminals] = 10           # reward at terminal state is 10\n",
    "c = -r"
   ]
  },
  {
   "cell_type": "code",
   "execution_count": 15,
   "metadata": {},
   "outputs": [],
   "source": [
    "# Create a matrices needed for calculation\n",
    "# DR = np.zeros((size,size))\n",
    "DR = np.eye(size-sum(terminals))\n",
    "Z = np.zeros(size)\n",
    "V = np.zeros(size)\n",
    "one_hot = np.eye(size-sum(terminals))\n",
    "\n",
    "# Hyperparameters\n",
    "alpha = 0.1\n",
    "gamma = 0.9\n",
    "epsilon = 0.2\n",
    "\n",
    "# Other things\n",
    "num_steps = 25000"
   ]
  },
  {
   "cell_type": "code",
   "execution_count": null,
   "metadata": {},
   "outputs": [],
   "source": [
    "Z[terminals] = np.exp(r[terminals] / gamma)"
   ]
  },
  {
   "cell_type": "code",
   "execution_count": 16,
   "metadata": {},
   "outputs": [],
   "source": [
    "# Calculate expr\n",
    "expr = np.exp(r[terminals] / gamma)"
   ]
  },
  {
   "cell_type": "code",
   "execution_count": 17,
   "metadata": {},
   "outputs": [],
   "source": [
    "def importance_sampling(state, s_new_idx):\n",
    "    successor_states = env.unwrapped.get_successor_states(state)\n",
    "    p = 1/len(successor_states)\n",
    "    w = (p * Z[s_new_idx]) / sum(p * Z[mapping_b[(s[0][0],s[0][1])]] for s in successor_states)\n",
    "    \n",
    "    return w"
   ]
  },
  {
   "cell_type": "code",
   "execution_count": 18,
   "metadata": {},
   "outputs": [
    {
     "name": "stderr",
     "output_type": "stream",
     "text": [
      "/var/folders/sf/4_xlxj4j2r1_sx5v07843wbw0000gn/T/ipykernel_32845/893110457.py:4: RuntimeWarning: invalid value encountered in scalar divide\n",
      "  w = (p * Z[s_new_idx]) / sum(p * Z[mapping_b[(s[0][0],s[0][1])]] for s in successor_states)\n"
     ]
    }
   ],
   "source": [
    "env.reset()\n",
    "\n",
    "# Iterate through number of steps\n",
    "for i in range(num_steps):\n",
    "    # Current state\n",
    "    state = env.unwrapped.agent_loc\n",
    "    state_idx = mapping_b[(state[0], state[1])]\n",
    "\n",
    "    # Choose action (random for now)\n",
    "    action = env.unwrapped.random_action()\n",
    "\n",
    "    # Take action\n",
    "    obs, _, done, _, _ = env.step(action)\n",
    "\n",
    "    if done:\n",
    "        env.reset()\n",
    "        continue\n",
    "\n",
    "    # Unpack observation to get new state\n",
    "    next_state = obs[\"agent\"]\n",
    "    next_state_idx = mapping_b[(next_state[0], next_state[1])]\n",
    "\n",
    "    # Update Default Representation\n",
    "    w = importance_sampling(state, next_state_idx)\n",
    "    w = 1 if np.isnan(w) or w == 0 else w\n",
    "    DR[state_idx] = (1 - alpha) * DR[state_idx] + alpha * ( one_hot[state_idx] + gamma * DR[next_state_idx] ) * w\n",
    "\n",
    "    # Update Z-Values\n",
    "    Z[state_idx] = DR[state_idx] @ P @ expr\n",
    "\n",
    "    # Update state\n",
    "    state = next_state"
   ]
  },
  {
   "cell_type": "code",
   "execution_count": 19,
   "metadata": {},
   "outputs": [],
   "source": [
    "# Z[terminals] = np.exp(r[terminals] / gamma)"
   ]
  },
  {
   "cell_type": "code",
   "execution_count": 20,
   "metadata": {},
   "outputs": [
    {
     "data": {
      "text/plain": [
       "array([2.36024521e+01, 4.52458533e+01, 2.10018597e+02, 7.73747532e+02,\n",
       "       2.25510102e+03, 4.76807472e+01, 0.00000000e+00, 0.00000000e+00,\n",
       "       2.06496369e+03, 1.11944567e+04, 1.79777390e+02, 0.00000000e+00,\n",
       "       0.00000000e+00, 1.24145593e+04, 2.46253958e+04, 5.13745977e+02,\n",
       "       2.32883238e+03, 8.67252001e+03, 0.00000000e+00, 9.18049503e+04,\n",
       "       1.45105254e+03, 5.80505024e+03, 1.92796082e+04, 9.26949158e+04,\n",
       "       6.69104951e+04])"
      ]
     },
     "execution_count": 20,
     "metadata": {},
     "output_type": "execute_result"
    }
   ],
   "source": [
    "Z"
   ]
  },
  {
   "cell_type": "code",
   "execution_count": 21,
   "metadata": {},
   "outputs": [],
   "source": [
    "v_maze = np.zeros_like(maze)\n",
    "for row in range(v_maze.shape[0]):\n",
    "    for col in range(v_maze.shape[1]):\n",
    "        if maze[row, col] == \"1\":\n",
    "            v_maze[row,col] = \"BAR\"\n",
    "            continue\n",
    "        v_maze[row,col] = round(np.log(Z[mapping_b[(row,col)]]), 2)"
   ]
  },
  {
   "cell_type": "code",
   "execution_count": 22,
   "metadata": {},
   "outputs": [
    {
     "data": {
      "text/plain": [
       "array([['3.16', '3.81', '5.35', '6.65', '7.72'],\n",
       "       ['3.86', 'BAR', 'BAR', '7.63', '9.32'],\n",
       "       ['5.19', 'BAR', 'BAR', '9.43', '10.11'],\n",
       "       ['6.24', '7.75', '9.07', 'BAR', '11.43'],\n",
       "       ['7.28', '8.67', '9.87', '11.44', '11.11']], dtype='<U21')"
      ]
     },
     "execution_count": 22,
     "metadata": {},
     "output_type": "execute_result"
    }
   ],
   "source": [
    "v_maze"
   ]
  },
  {
   "cell_type": "code",
   "execution_count": null,
   "metadata": {},
   "outputs": [],
   "source": []
  }
 ],
 "metadata": {
  "kernelspec": {
   "display_name": "gym",
   "language": "python",
   "name": "python3"
  },
  "language_info": {
   "codemirror_mode": {
    "name": "ipython",
    "version": 3
   },
   "file_extension": ".py",
   "mimetype": "text/x-python",
   "name": "python",
   "nbconvert_exporter": "python",
   "pygments_lexer": "ipython3",
   "version": "3.10.0"
  }
 },
 "nbformat": 4,
 "nbformat_minor": 2
}
