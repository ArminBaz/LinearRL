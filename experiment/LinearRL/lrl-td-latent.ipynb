{
 "cells": [
  {
   "cell_type": "code",
   "execution_count": 1,
   "metadata": {},
   "outputs": [],
   "source": [
    "import os\n",
    "\n",
    "import numpy as np\n",
    "import gymnasium as gym\n",
    "import matplotlib.pyplot as plt\n",
    "from matplotlib import patches\n",
    "import matplotlib.animation as manimation\n",
    "\n",
    "import gym_env"
   ]
  },
  {
   "cell_type": "markdown",
   "metadata": {},
   "source": [
    "### Load Env and Get info"
   ]
  },
  {
   "cell_type": "code",
   "execution_count": 3,
   "metadata": {},
   "outputs": [
    {
     "data": {
      "text/plain": [
       "({'agent': array([7, 0]), 'target': array([1, 9])}, {'distance': 15.0})"
      ]
     },
     "execution_count": 3,
     "metadata": {},
     "output_type": "execute_result"
    }
   ],
   "source": [
    "# Construct the environment\n",
    "env = gym.make(\"tolman-10x10-latent\")\n",
    "env.reset()"
   ]
  },
  {
   "cell_type": "code",
   "execution_count": 4,
   "metadata": {},
   "outputs": [],
   "source": [
    "actions = np.arange(env.action_space.n, dtype=int)\n",
    "start_loc = env.unwrapped.start_loc\n",
    "target_loc = env.unwrapped.target_loc\n",
    "maze = env.unwrapped.maze\n",
    "size = maze.size\n",
    "height, width = maze.shape\n",
    "target_locs = [target_loc]"
   ]
  },
  {
   "cell_type": "code",
   "execution_count": 5,
   "metadata": {},
   "outputs": [
    {
     "name": "stdout",
     "output_type": "stream",
     "text": [
      "actions: [0 1 2 3], start loc: [7 0], target loc: [1 9], size: 100, height: 10, width: 10\n"
     ]
    }
   ],
   "source": [
    "print(f\"actions: {actions}, start loc: {start_loc}, target loc: {target_loc}, size: {size}, height: {height}, width: {width}\")\n"
   ]
  },
  {
   "cell_type": "markdown",
   "metadata": {},
   "source": [
    "### Helper Functions"
   ]
  },
  {
   "cell_type": "code",
   "execution_count": 6,
   "metadata": {},
   "outputs": [],
   "source": [
    "def get_blocked_states(maze):\n",
    "    blocked_states = []\n",
    "\n",
    "    for i in range(maze.shape[0]):\n",
    "        for j in range(maze.shape[1]):\n",
    "            if maze[i,j] == \"1\":\n",
    "                blocked_states.append((i,j))\n",
    "    \n",
    "    return blocked_states"
   ]
  },
  {
   "cell_type": "code",
   "execution_count": 7,
   "metadata": {},
   "outputs": [],
   "source": [
    "def create_transition_matrix_mapping(maze):\n",
    "    \"\"\"\n",
    "    Creates a mapping from maze state indices to transition matrix indices\n",
    "    Returns for both the full maze (mapping_b), and the maze with no borders (mapping_nb)\n",
    "    \"\"\"\n",
    "    blocked_states = get_blocked_states(maze)\n",
    "    n = len(maze)  # Size of the maze (N)\n",
    "\n",
    "    mapping_nb, mapping_b = {}, {}\n",
    "    matrix_idx_nb, matrix_idx_b = 0, 0\n",
    "\n",
    "    for i in range(n):\n",
    "        for j in range(n):\n",
    "            # If we higt a blocked state\n",
    "            if (i, j) not in blocked_states:\n",
    "                mapping_nb[(i, j)] = matrix_idx_nb\n",
    "                matrix_idx_nb += 1\n",
    "            mapping_b[(i,j)] = matrix_idx_b\n",
    "            matrix_idx_b += 1\n",
    "\n",
    "    return mapping_nb, mapping_b"
   ]
  },
  {
   "cell_type": "code",
   "execution_count": 8,
   "metadata": {},
   "outputs": [],
   "source": [
    "mapping_nb, mapping_b = create_transition_matrix_mapping(maze)\n",
    "reverse_mapping_nb = {index: (i, j) for (i, j), index in mapping_nb.items()}\n",
    "reverse_mapping_b = {index: (i, j) for (i, j), index in mapping_b.items()}"
   ]
  },
  {
   "cell_type": "code",
   "execution_count": 9,
   "metadata": {},
   "outputs": [],
   "source": [
    "def get_transition_matrix(size, mapping):\n",
    "    T = np.zeros(shape=(size, size))\n",
    "    # loop through the maze\n",
    "    for row in range(maze.shape[0]):\n",
    "        for col in range(maze.shape[1]):            \n",
    "            # if we hit a barrier\n",
    "            if maze[row,col] == '1':\n",
    "                continue\n",
    "\n",
    "            idx_cur = mapping[row, col]\n",
    "\n",
    "            # check if current state is terminal\n",
    "            if maze[row,col] == 'G':\n",
    "                T[idx_cur, idx_cur] = 1\n",
    "                continue\n",
    "\n",
    "            state = (row,col)\n",
    "            successor_states = env.unwrapped.get_successor_states(state)\n",
    "            for successor_state in successor_states:\n",
    "                idx_new = mapping[successor_state[0][0], successor_state[0][1]]\n",
    "                T[idx_cur, idx_new] = 1\n",
    "    \n",
    "    return T"
   ]
  },
  {
   "cell_type": "code",
   "execution_count": 10,
   "metadata": {},
   "outputs": [],
   "source": [
    "def one_hot_row(s_idx, size):\n",
    "    row = np.zeros(size) \n",
    "    row[s_idx] = 1\n",
    "\n",
    "    return row"
   ]
  },
  {
   "cell_type": "code",
   "execution_count": 11,
   "metadata": {},
   "outputs": [],
   "source": [
    "T = get_transition_matrix(size=size, mapping=mapping_b)"
   ]
  },
  {
   "cell_type": "code",
   "execution_count": 12,
   "metadata": {},
   "outputs": [],
   "source": [
    "# Get terminal states\n",
    "terminals = np.diag(T) == 1\n",
    "\n",
    "# Calculate P = T_{NT}\n",
    "P = T[~terminals][:,terminals]\n",
    "\n",
    "# Calculate reward\n",
    "r = np.full(len(T), -1)     # our reward at each non-terminal state to be -1\n",
    "r[terminals] = 10           # reward at terminal state is 10\n",
    "c = -r"
   ]
  },
  {
   "cell_type": "markdown",
   "metadata": {},
   "source": [
    "### LRL-TD"
   ]
  },
  {
   "cell_type": "code",
   "execution_count": 13,
   "metadata": {},
   "outputs": [],
   "source": [
    "# Create a matrices needed for calculation\n",
    "# DR = np.zeros((size,size))\n",
    "# DR = np.eye(size-sum(terminals))\n",
    "DR = np.eye(size)\n",
    "Z = np.zeros(size)\n",
    "V = np.zeros(size)\n",
    "# one_hot = np.eye(size-sum(terminals))\n",
    "one_hot = np.eye(size)\n",
    "\n",
    "# Hyperparameters\n",
    "alpha = 0.1\n",
    "gamma = 0.8\n",
    "epsilon = 0.2\n",
    "\n",
    "# Other things\n",
    "num_steps = 50000"
   ]
  },
  {
   "cell_type": "code",
   "execution_count": 14,
   "metadata": {},
   "outputs": [],
   "source": [
    "# Z[terminals] = np.exp(r[terminals] / gamma)"
   ]
  },
  {
   "cell_type": "code",
   "execution_count": 15,
   "metadata": {},
   "outputs": [],
   "source": [
    "# Calculate expr\n",
    "expr = np.exp(r[terminals] / gamma)"
   ]
  },
  {
   "cell_type": "code",
   "execution_count": 16,
   "metadata": {},
   "outputs": [],
   "source": [
    "def importance_sampling(state, s_new_idx):\n",
    "    successor_states = env.unwrapped.get_successor_states(state)\n",
    "    p = 1/len(successor_states)\n",
    "    w = (p * Z[s_new_idx]) / sum(p * Z[mapping_b[(s[0][0],s[0][1])]] for s in successor_states)\n",
    "    \n",
    "    return w"
   ]
  },
  {
   "cell_type": "code",
   "execution_count": 17,
   "metadata": {},
   "outputs": [],
   "source": [
    "env.reset()\n",
    "\n",
    "# Iterate through number of steps\n",
    "for i in range(num_steps):\n",
    "    # Current state\n",
    "    state = env.unwrapped.agent_loc\n",
    "    state_idx = mapping_b[(state[0], state[1])]\n",
    "\n",
    "    # Choose action (random for now)\n",
    "    action = env.unwrapped.random_action()\n",
    "\n",
    "    # Take action\n",
    "    obs, _, done, _, _ = env.step(action)\n",
    "\n",
    "    if done:\n",
    "        env.reset()\n",
    "        continue\n",
    "\n",
    "    # Unpack observation to get new state\n",
    "    next_state = obs[\"agent\"]\n",
    "    next_state_idx = mapping_b[(next_state[0], next_state[1])]\n",
    "\n",
    "    # Update Default Representation\n",
    "    # w = importance_sampling(state, next_state_idx)\n",
    "    # w = 1 if np.isnan(w) or w == 0 else w\n",
    "    w = 1\n",
    "    # DR[state_idx] = (1 - alpha) * DR[state_idx] + alpha * ( one_hot[state_idx] + gamma * DR[next_state_idx] ) * w\n",
    "    DR[state_idx][~terminals] = (1 - alpha) * DR[state_idx][~terminals] + alpha * ( one_hot[state_idx][~terminals] + gamma * DR[next_state_idx][~terminals] ) * w\n",
    "\n",
    "    # Update Z-Values\n",
    "    # Z[state_idx] = DR[state_idx] @ P @ expr\n",
    "    Z[state_idx] = DR[state_idx][~terminals] @ P @ expr\n",
    "\n",
    "    # Update state\n",
    "    state = next_state"
   ]
  },
  {
   "cell_type": "code",
   "execution_count": 18,
   "metadata": {},
   "outputs": [],
   "source": [
    "Z[terminals] = np.exp(r[terminals] / gamma)"
   ]
  },
  {
   "cell_type": "code",
   "execution_count": 19,
   "metadata": {},
   "outputs": [],
   "source": [
    "v_maze = np.zeros_like(maze)\n",
    "for row in range(v_maze.shape[0]):\n",
    "    for col in range(v_maze.shape[1]):\n",
    "        if maze[row, col] == \"1\":\n",
    "            v_maze[row,col] = \"BAR\"\n",
    "            continue\n",
    "        v_maze[row,col] = round(np.log(Z[mapping_b[(row,col)]]), 2)"
   ]
  },
  {
   "cell_type": "code",
   "execution_count": 20,
   "metadata": {},
   "outputs": [
    {
     "data": {
      "text/plain": [
       "array([['BAR', '0.77', 'BAR', 'BAR', '3.18', 'BAR', 'BAR', '12.04',\n",
       "        '12.38', '12.85'],\n",
       "       ['0.7', '1.36', '2.36', '3.2', '3.85', '3.5', 'BAR', '12.26',\n",
       "        '13.0', '12.5'],\n",
       "       ['0.72', '1.39', '2.54', '3.73', '4.91', '4.07', 'BAR', '11.74',\n",
       "        'BAR', 'BAR'],\n",
       "       ['BAR', '0.54', 'BAR', 'BAR', '6.11', 'BAR', 'BAR', '11.04',\n",
       "        'BAR', 'BAR'],\n",
       "       ['BAR', '-0.69', 'BAR', 'BAR', '6.5', '7.67', '8.6', '9.05',\n",
       "        'BAR', 'BAR'],\n",
       "       ['BAR', '-1.28', 'BAR', '5.58', '6.36', '7.39', '7.91', '7.97',\n",
       "        'BAR', 'BAR'],\n",
       "       ['BAR', '-2.22', 'BAR', '5.11', '5.58', 'BAR', 'BAR', '7.29',\n",
       "        'BAR', 'BAR'],\n",
       "       ['-4.21', '-3.29', 'BAR', '4.58', '4.58', 'BAR', '5.58', '6.22',\n",
       "        'BAR', 'BAR'],\n",
       "       ['-4.36', '-4.16', 'BAR', 'BAR', '3.94', 'BAR', '5.05', '4.96',\n",
       "        '4.02', '3.6'],\n",
       "       ['BAR', '-4.39', 'BAR', 'BAR', '3.63', 'BAR', 'BAR', '4.16',\n",
       "        '3.74', '3.44']], dtype='<U21')"
      ]
     },
     "execution_count": 20,
     "metadata": {},
     "output_type": "execute_result"
    }
   ],
   "source": [
    "v_maze"
   ]
  },
  {
   "cell_type": "markdown",
   "metadata": {},
   "source": [
    "### Plotting"
   ]
  },
  {
   "cell_type": "code",
   "execution_count": 21,
   "metadata": {},
   "outputs": [
    {
     "data": {
      "text/plain": [
       "array([1, 9])"
      ]
     },
     "execution_count": 21,
     "metadata": {},
     "output_type": "execute_result"
    }
   ],
   "source": [
    "target_loc"
   ]
  },
  {
   "cell_type": "code",
   "execution_count": 22,
   "metadata": {},
   "outputs": [],
   "source": [
    "def get_map():\n",
    "    # Replace 'S' and 'G' with 0\n",
    "    m = np.where(np.isin(maze, ['S', 'G']), '0', maze)\n",
    "\n",
    "    # Convert the array to int\n",
    "    m = m.astype(int)\n",
    "    \n",
    "    return m\n",
    "\n",
    "def render_maze(state, ax=None):    \n",
    "    if ax is None:\n",
    "        fig, ax = plt.subplots()\n",
    "    m = get_map()\n",
    "    \n",
    "    # Display maze\n",
    "    ax.imshow(m, origin='upper')\n",
    "    # Display agent\n",
    "    agent = patches.Circle((state[1],state[0]), radius=0.4, fill=True, color='white')\n",
    "    ax.add_patch(agent)\n",
    "    # Display Reward\n",
    "    reward = patches.Circle((target_loc[1],target_loc[0]), radius=0.4, fill=True, color='green')\n",
    "    ax.add_patch(reward)\n",
    "\n",
    "    ax.set_title('Map')\n",
    "    ax.set_axis_off()\n",
    "\n",
    "def render_DR(DR, state, ax=None):\n",
    "    state_idx = mapping_b[(state[0], state[1])]\n",
    "    ax.imshow(DR[state_idx].reshape(height, width), \n",
    "              origin='upper', cmap='plasma')\n",
    "    ax.set_title(\"DR(%d, %d)\" % (state[0], state[1]))\n",
    "    ax.set_axis_off()\n",
    "\n",
    "def render_V(ax, values, vmax=None):\n",
    "    min_value = np.min(values[~np.isinf(values)])\n",
    "    max_value = np.max(values)\n",
    "\n",
    "    cmap = plt.cm.Greys_r\n",
    "    cmap.set_bad('black', 1.0)\n",
    "\n",
    "    ax.imshow(values.reshape(height, width),\n",
    "                origin='upper',\n",
    "                cmap=cmap, vmin=min_value, vmax=max_value)\n",
    "    ax.set_title(\"$Values$\")\n",
    "    ax.set_axis_off()"
   ]
  },
  {
   "cell_type": "code",
   "execution_count": 23,
   "metadata": {},
   "outputs": [
    {
     "name": "stderr",
     "output_type": "stream",
     "text": [
      "/var/folders/sf/4_xlxj4j2r1_sx5v07843wbw0000gn/T/ipykernel_68379/37569279.py:1: RuntimeWarning: divide by zero encountered in log\n",
      "  V = np.round(np.log(Z), 2)\n"
     ]
    }
   ],
   "source": [
    "V = np.round(np.log(Z), 2)"
   ]
  },
  {
   "cell_type": "code",
   "execution_count": 24,
   "metadata": {},
   "outputs": [],
   "source": [
    "def make_plots(DR, state=None):\n",
    "    # Adjust DR at terminal state\n",
    "    idx = mapping_b[target_loc[0], target_loc[1]]\n",
    "    DR[idx, :] = 0\n",
    "    DR[idx, idx] = 1\n",
    "\n",
    "    if state is None:\n",
    "        state = start_loc\n",
    "        # state = (0,0)\n",
    "        \n",
    "    fig, axs = plt.subplots(1, 3, dpi=144)\n",
    "    render_maze(state, ax=axs[0])\n",
    "    render_DR(DR, state, ax=axs[1])\n",
    "    render_V(values=V, ax=axs[2])\n",
    "    \n",
    "    plt.show()"
   ]
  },
  {
   "cell_type": "code",
   "execution_count": 25,
   "metadata": {},
   "outputs": [
    {
     "data": {
      "image/png": "[encoded data removed]",
      "text/plain": [
       "<Figure size 921.6x691.2 with 3 Axes>"
      ]
     },
     "metadata": {},
     "output_type": "display_data"
    }
   ],
   "source": [
    "make_plots(DR=DR)"
   ]
  },
  {
   "cell_type": "code",
   "execution_count": 26,
   "metadata": {},
   "outputs": [],
   "source": [
    "action_to_direction = {\n",
    "    0: np.array([1, 0]),\n",
    "    1: np.array([0, 1]),\n",
    "    2: np.array([-1, 0]),\n",
    "    3: np.array([0, -1]),\n",
    "}"
   ]
  },
  {
   "cell_type": "code",
   "execution_count": 27,
   "metadata": {},
   "outputs": [],
   "source": [
    "num_rows, num_cols = maze.shape"
   ]
  },
  {
   "cell_type": "code",
   "execution_count": 28,
   "metadata": {},
   "outputs": [],
   "source": [
    "def select_action(state, policy=\"e-greedy\", epsilon=0.0, target_loc=None):\n",
    "    if policy == \"softmax\":\n",
    "        return\n",
    "    elif policy == \"e-greedy\":\n",
    "        if np.random.uniform(low=0,high=1) < epsilon:\n",
    "            return env.unwrapped.random_action()\n",
    "        \n",
    "        else:\n",
    "            action_values = np.full(len(actions), -np.inf)\n",
    "            for action in env.unwrapped.get_available_actions(state):\n",
    "                direction = action_to_direction[action]\n",
    "                new_state = state + direction\n",
    "                if maze[new_state[0], new_state[1]] == \"1\":\n",
    "                    continue\n",
    "                action_values[action] = round(np.log(Z[mapping_b[(new_state[0],new_state[1])]]), 2)\n",
    "\n",
    "            return np.argmax(action_values)\n",
    "        \n",
    "    elif policy == \"test\":\n",
    "        action_values = np.full(len(actions), -np.inf)\n",
    "        for action in env.unwrapped.get_available_actions(state):\n",
    "            direction = action_to_direction[action]\n",
    "            new_state = state + direction\n",
    "\n",
    "            # Need this to make it work for now\n",
    "            if np.array_equal(new_state, target_loc):\n",
    "                return action\n",
    "\n",
    "            if maze[new_state[0], new_state[1]] == \"1\":\n",
    "                continue\n",
    "            action_values[action] = round(np.log(Z[mapping_b[(new_state[0],new_state[1])]]), 2)\n",
    "\n",
    "        return np.argmax(action_values)"
   ]
  },
  {
   "cell_type": "code",
   "execution_count": 29,
   "metadata": {},
   "outputs": [
    {
     "data": {
      "text/plain": [
       "array([['1', '0', '1', '1', '0', '1', '1', '0', '0', '0'],\n",
       "       ['0', '0', '0', '0', '0', '0', '1', '0', '0', 'G'],\n",
       "       ['0', '0', '0', '0', '0', '0', '1', '0', '1', '1'],\n",
       "       ['1', '0', '1', '1', '0', '1', '1', '0', '1', '1'],\n",
       "       ['1', '0', '1', '1', '0', '0', '0', '0', '1', '1'],\n",
       "       ['1', '0', '1', '0', '0', '0', '0', '0', '1', '1'],\n",
       "       ['1', '0', '1', '0', '0', '1', '1', '0', '1', '1'],\n",
       "       ['S', '0', '1', '0', '0', '1', '0', '0', '1', '1'],\n",
       "       ['0', '0', '1', '1', '0', '1', '0', '0', '0', '0'],\n",
       "       ['1', '0', '1', '1', '0', '1', '1', '0', '0', '0']], dtype='<U21')"
      ]
     },
     "execution_count": 29,
     "metadata": {},
     "output_type": "execute_result"
    }
   ],
   "source": [
    "maze"
   ]
  },
  {
   "cell_type": "code",
   "execution_count": 30,
   "metadata": {},
   "outputs": [
    {
     "name": "stdout",
     "output_type": "stream",
     "text": [
      "[7 0]\n",
      "Took action: 1 and arrived in state: [7 1]\n",
      "Took action: 2 and arrived in state: [6 1]\n",
      "Took action: 2 and arrived in state: [5 1]\n",
      "Took action: 2 and arrived in state: [4 1]\n",
      "Took action: 2 and arrived in state: [3 1]\n",
      "Took action: 2 and arrived in state: [2 1]\n",
      "Took action: 1 and arrived in state: [2 2]\n",
      "Took action: 1 and arrived in state: [2 3]\n",
      "Took action: 1 and arrived in state: [2 4]\n",
      "Took action: 0 and arrived in state: [3 4]\n",
      "Took action: 0 and arrived in state: [4 4]\n",
      "Took action: 1 and arrived in state: [4 5]\n",
      "Took action: 1 and arrived in state: [4 6]\n",
      "Took action: 1 and arrived in state: [4 7]\n",
      "Took action: 2 and arrived in state: [3 7]\n",
      "Took action: 2 and arrived in state: [2 7]\n",
      "Took action: 2 and arrived in state: [1 7]\n",
      "Took action: 1 and arrived in state: [1 8]\n",
      "Took action: 1 and arrived in state: [1 9]\n",
      "19\n"
     ]
    }
   ],
   "source": [
    "env.reset()\n",
    "state = start_loc\n",
    "# set the start and agent location\n",
    "env.unwrapped.start_loc, env.unwrapped.agent_loc = state, state\n",
    "# print(state)\n",
    "print(state)\n",
    "steps = 0\n",
    "done = False\n",
    "while not done:\n",
    "    action = select_action(state, policy=\"test\", target_loc=env.unwrapped.target_loc)\n",
    "    obs, _, done, _, _ = env.step(action)\n",
    "    next_state = obs[\"agent\"]\n",
    "    print(f\"Took action: {action} and arrived in state: {next_state}\")\n",
    "\n",
    "    steps += 1\n",
    "    state = next_state\n",
    "print(steps)"
   ]
  },
  {
   "cell_type": "code",
   "execution_count": 66,
   "metadata": {},
   "outputs": [],
   "source": [
    "def record_trials(title=\"recorded_trials\", n_trial_per_loc=1,\n",
    "                    start_locs=None, max_steps=100):\n",
    "    metadata = dict(title=title, artist='JG')\n",
    "    writer = manimation.FFMpegFileWriter(fps=7, metadata=metadata)\n",
    "    fig, axs = plt.subplots(1, 3, figsize=(7, 3))\n",
    "    fig.tight_layout()\n",
    "\n",
    "    with writer.saving(fig, \"./out/%s.mp4\" % title, 144):\n",
    "        for sl in start_locs:\n",
    "            for trial in range(n_trial_per_loc):\n",
    "                env.reset()\n",
    "                done = False\n",
    "                steps = 0\n",
    "                state = sl\n",
    "                \n",
    "                # set the start and agent location\n",
    "                env.unwrapped.start_loc, env.unwrapped.agent_loc = state, state\n",
    "\n",
    "                # Render starting state\n",
    "                render_maze(state, ax=axs[0])\n",
    "                render_DR(DR, state, ax=axs[1])\n",
    "                render_V(values=V, ax=axs[2])\n",
    "                writer.grab_frame()\n",
    "                \n",
    "                for ax in axs:\n",
    "                        ax.clear()\n",
    "\n",
    "                # Act greedily and record each state as well\n",
    "                while not done and steps < max_steps:\n",
    "                    action = select_action(state)\n",
    "                    obs, _, done, _, _ = env.step(action)\n",
    "\n",
    "                    render_maze(state, ax=axs[0])\n",
    "                    render_DR(DR, state, ax=axs[1])\n",
    "                    render_V(values=V, ax=axs[2])\n",
    "                    writer.grab_frame()\n",
    "\n",
    "                    steps += 1\n",
    "\n",
    "                    state = obs[\"agent\"]\n",
    "\n",
    "                    for ax in axs:\n",
    "                        ax.clear()"
   ]
  },
  {
   "cell_type": "code",
   "execution_count": 67,
   "metadata": {},
   "outputs": [
    {
     "data": {
      "text/plain": [
       "array([7, 0])"
      ]
     },
     "execution_count": 67,
     "metadata": {},
     "output_type": "execute_result"
    }
   ],
   "source": [
    "start_loc"
   ]
  },
  {
   "cell_type": "code",
   "execution_count": 68,
   "metadata": {},
   "outputs": [
    {
     "data": {
      "image/png": "[encoded data removed]",
      "text/plain": [
       "<Figure size 700x300 with 3 Axes>"
      ]
     },
     "metadata": {},
     "output_type": "display_data"
    }
   ],
   "source": [
    "record_trials(title=\"tolman-latent-new-goal\", \n",
    "                start_locs=np.array([[7,0], [1,0], [9,4], [0,4]]))\n"
   ]
  },
  {
   "cell_type": "code",
   "execution_count": null,
   "metadata": {},
   "outputs": [],
   "source": []
  }
 ],
 "metadata": {
  "kernelspec": {
   "display_name": "gym",
   "language": "python",
   "name": "python3"
  },
  "language_info": {
   "codemirror_mode": {
    "name": "ipython",
    "version": 3
   },
   "file_extension": ".py",
   "mimetype": "text/x-python",
   "name": "python",
   "nbconvert_exporter": "python",
   "pygments_lexer": "ipython3",
   "version": "3.10.0"
  }
 },
 "nbformat": 4,
 "nbformat_minor": 2
}
