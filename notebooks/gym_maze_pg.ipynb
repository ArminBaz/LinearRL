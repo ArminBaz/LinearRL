{
 "cells": [
  {
   "cell_type": "code",
   "execution_count": 22,
   "metadata": {},
   "outputs": [],
   "source": [
    "import numpy as np"
   ]
  },
  {
   "cell_type": "code",
   "execution_count": 23,
   "metadata": {},
   "outputs": [],
   "source": [
    "maze_5x5 = np.array([\n",
    "    ['S', 0, 0, 0, 0],\n",
    "    [0, 1, 1, 0, 0],\n",
    "    [0, 1, 1, 0, 0],\n",
    "    [0, 0, 0, 1, 0],\n",
    "    [0, 0, 0, 0, 'G']\n",
    "])"
   ]
  },
  {
   "cell_type": "code",
   "execution_count": 24,
   "metadata": {},
   "outputs": [],
   "source": [
    "# Hairpin 14x14 maze\n",
    "hairpin_14x14 = np.array([\n",
    "    ['S', 0, 1, 0, 0, 0, 0, 0, 1, 0, 0, 0, 0, 0],\n",
    "    [0, 0, 1, 0, 0, 0, 0, 0, 1, 0, 0, 0, 0, 0],\n",
    "    [0, 0, 1, 0, 0, 1, 0, 0, 1, 0, 0, 1, 0, 0],\n",
    "    [0, 0, 1, 0, 0, 1, 0, 0, 1, 0, 0, 1, 0, 0],\n",
    "    [0, 0, 1, 0, 0, 1, 0, 0, 1, 0, 0, 1, 0, 0],\n",
    "    [0, 0, 1, 0, 0, 1, 0, 0, 1, 0, 0, 1, 0, 0],\n",
    "    [0, 0, 1, 0, 0, 1, 0, 0, 1, 0, 0, 1, 0, 0],\n",
    "    [0, 0, 1, 0, 0, 1, 0, 0, 1, 0, 0, 1, 0, 0],\n",
    "    [0, 0, 1, 0, 0, 1, 0, 0, 1, 0, 0, 1, 0, 0],\n",
    "    [0, 0, 1, 0, 0, 1, 0, 0, 1, 0, 0, 1, 0, 0],\n",
    "    [0, 0, 1, 0, 0, 1, 0, 0, 1, 0, 0, 1, 0, 0],\n",
    "    [0, 0, 1, 0, 0, 1, 0, 0, 1, 0, 0, 1, 0, 0],\n",
    "    [0, 0, 0, 0, 0, 1, 0, 0, 0, 0, 0, 1, 0, 0],\n",
    "    [0, 0, 0, 0, 0, 1, 0, 0, 0, 0, 0, 1, 0, 'G']\n",
    "])"
   ]
  },
  {
   "cell_type": "code",
   "execution_count": 25,
   "metadata": {},
   "outputs": [],
   "source": [
    "# hard code a 10x10 maze\n",
    "maze_10x10 = np.array([\n",
    "    ['S', 0, 0, 0, 0, 0, 0, 0, 0, 0],\n",
    "    [0, 0, 0, 0, 0, 0, 0, 0, 0, 0],\n",
    "    [0, 0, 0, 0, 0, 0, 0, 0, 0, 0],\n",
    "    [0, 0, 0, 0, 0, 0, 0, 0, 0, 0],\n",
    "    [0, 0, 0, 0, 0, 0, 0, 0, 0, 0],\n",
    "    [0, 0, 0, 0, 0, 0, 0, 0, 0, 0],\n",
    "    [0, 0, 0, 0, 0, 0, 0, 0, 0, 0],\n",
    "    [0, 0, 0, 0, 0, 0, 0, 0, 0, 0],\n",
    "    [0, 0, 0, 0, 0, 0, 0, 0, 0, 0],\n",
    "    [0, 0, 0, 0, 0, 0, 0, 0, 0, 'G']\n",
    "])"
   ]
  },
  {
   "cell_type": "code",
   "execution_count": 33,
   "metadata": {},
   "outputs": [],
   "source": [
    "# Tolman detour task\n",
    "\n",
    "# Not blocked\n",
    "tolman_9x9_v0 = np.array([\n",
    "    [1,1,1,'S',1,1,1,1,1],\n",
    "    [1,1,1,0,1,1,1,1,1],\n",
    "    [0,0,0,0,0,0,0,0,0],\n",
    "    [0,1,1,0,1,1,1,1,0],\n",
    "    [0,1,1,0,1,1,1,1,0],\n",
    "    [0,1,1,0,1,1,1,1,0],\n",
    "    [0,0,0,0,0,0,0,0,0],\n",
    "    [1,1,1,0,1,1,1,1,1],\n",
    "    [1,1,1,'G',1,1,1,1,1]\n",
    "])\n",
    "\n",
    "# Blocked\n",
    "tolman_9x9_v1 = np.array([\n",
    "    [1,1,1,'S',1,1,1,1,1],\n",
    "    [1,1,1,0,1,1,1,1,1],\n",
    "    [0,0,0,0,0,0,0,0,0],\n",
    "    [0,1,1,0,1,1,1,1,0],\n",
    "    [0,1,1,1,1,1,1,1,0],\n",
    "    [0,1,1,0,1,1,1,1,0],\n",
    "    [0,0,0,0,0,0,0,0,0],\n",
    "    [1,1,1,0,1,1,1,1,1],\n",
    "    [1,1,1,'G',1,1,1,1,1]\n",
    "])"
   ]
  },
  {
   "cell_type": "code",
   "execution_count": 34,
   "metadata": {},
   "outputs": [
    {
     "name": "stdout",
     "output_type": "stream",
     "text": [
      "(9, 9)\n",
      "[['1' '1' '1' 'S' '1' '1' '1' '1' '1']\n",
      " ['1' '1' '1' '0' '1' '1' '1' '1' '1']\n",
      " ['0' '0' '0' '0' '0' '0' '0' '0' '0']\n",
      " ['0' '1' '1' '0' '1' '1' '1' '1' '0']\n",
      " ['0' '1' '1' '0' '1' '1' '1' '1' '0']\n",
      " ['0' '1' '1' '0' '1' '1' '1' '1' '0']\n",
      " ['0' '0' '0' '0' '0' '0' '0' '0' '0']\n",
      " ['1' '1' '1' '0' '1' '1' '1' '1' '1']\n",
      " ['1' '1' '1' 'G' '1' '1' '1' '1' '1']]\n"
     ]
    }
   ],
   "source": [
    "print(tolman_9x9_v0.shape)\n",
    "print(tolman_9x9_v0)"
   ]
  },
  {
   "cell_type": "code",
   "execution_count": 38,
   "metadata": {},
   "outputs": [],
   "source": [
    "file_path = \"/Users/abizzle/Research/LinearRL/gym-env/gym_env/envs/maze_files/tolman_9x9_v1.npy\""
   ]
  },
  {
   "cell_type": "code",
   "execution_count": 39,
   "metadata": {},
   "outputs": [],
   "source": [
    "np.save(file=file_path, arr=tolman_9x9_v1)"
   ]
  },
  {
   "cell_type": "code",
   "execution_count": null,
   "metadata": {},
   "outputs": [],
   "source": []
  }
 ],
 "metadata": {
  "kernelspec": {
   "display_name": "gym-maze",
   "language": "python",
   "name": "python3"
  },
  "language_info": {
   "codemirror_mode": {
    "name": "ipython",
    "version": 3
   },
   "file_extension": ".py",
   "mimetype": "text/x-python",
   "name": "python",
   "nbconvert_exporter": "python",
   "pygments_lexer": "ipython3",
   "version": "3.10.12"
  },
  "orig_nbformat": 4
 },
 "nbformat": 4,
 "nbformat_minor": 2
}
