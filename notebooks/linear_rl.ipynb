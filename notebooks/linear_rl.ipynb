{
 "cells": [
  {
   "cell_type": "code",
   "execution_count": 7,
   "metadata": {},
   "outputs": [],
   "source": [
    "import gymnasium as gym\n",
    "import gym_env\n",
    "import sys"
   ]
  },
  {
   "cell_type": "code",
   "execution_count": 8,
   "metadata": {},
   "outputs": [
    {
     "name": "stdout",
     "output_type": "stream",
     "text": [
      "<module 'gym_env' from '/Users/abizzle/anaconda3/envs/gym/lib/python3.10/site-packages/gym_env-0.0.1-py3.10.egg/gym_env/__init__.py'>\n",
      "['/Users/abizzle/Research/LinearRL/notebooks', '/Users/abizzle/anaconda3/envs/gym/lib/python310.zip', '/Users/abizzle/anaconda3/envs/gym/lib/python3.10', '/Users/abizzle/anaconda3/envs/gym/lib/python3.10/lib-dynload', '', '/Users/abizzle/anaconda3/envs/gym/lib/python3.10/site-packages', '/Users/abizzle/anaconda3/envs/gym/lib/python3.10/site-packages/PyQt5_sip-12.11.0-py3.10-macosx-11.1-arm64.egg', '/Users/abizzle/anaconda3/envs/gym/lib/python3.10/site-packages/gym_env-0.0.1-py3.10.egg', '/Users/abizzle/anaconda3/envs/gym/lib/python3.10/site-packages/gym-0.26.2-py3.10.egg', '/Users/abizzle/anaconda3/envs/gym/lib/python3.10/site-packages/gym_notices-0.0.8-py3.10.egg']\n"
     ]
    }
   ],
   "source": [
    "print(gym_env)\n",
    "print(sys.path)"
   ]
  },
  {
   "cell_type": "code",
   "execution_count": null,
   "metadata": {},
   "outputs": [],
   "source": [
    "env = gym.make()"
   ]
  },
  {
   "cell_type": "code",
   "execution_count": null,
   "metadata": {},
   "outputs": [],
   "source": []
  }
 ],
 "metadata": {
  "kernelspec": {
   "display_name": "base",
   "language": "python",
   "name": "python3"
  },
  "language_info": {
   "codemirror_mode": {
    "name": "ipython",
    "version": 3
   },
   "file_extension": ".py",
   "mimetype": "text/x-python",
   "name": "python",
   "nbconvert_exporter": "python",
   "pygments_lexer": "ipython3",
   "version": "3.10.12"
  },
  "orig_nbformat": 4
 },
 "nbformat": 4,
 "nbformat_minor": 2
}
