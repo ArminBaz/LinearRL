{
 "cells": [
  {
   "cell_type": "code",
   "execution_count": 1,
   "metadata": {},
   "outputs": [],
   "source": [
    "import os\n",
    "\n",
    "import numpy as np\n",
    "import gymnasium as gym\n",
    "\n",
    "import gym_env"
   ]
  },
  {
   "cell_type": "code",
   "execution_count": 2,
   "metadata": {},
   "outputs": [
    {
     "name": "stderr",
     "output_type": "stream",
     "text": [
      "/Users/abizzle/anaconda3/envs/gym/lib/python3.10/site-packages/gymnasium/utils/passive_env_checker.py:181: DeprecationWarning: \u001b[33mWARN: Current gymnasium version requires that `Env.reset` can be passed `options` to allow the environment initialisation to be passed additional information.\u001b[0m\n",
      "  logger.deprecation(\n"
     ]
    },
    {
     "data": {
      "text/plain": [
       "({'agent': array([0, 0]), 'target': array([4, 4])}, {'distance': 8.0})"
      ]
     },
     "execution_count": 2,
     "metadata": {},
     "output_type": "execute_result"
    }
   ],
   "source": [
    "# Construct the environment\n",
    "env = gym.make(\"simple-5x5\")\n",
    "env.reset()"
   ]
  },
  {
   "cell_type": "code",
   "execution_count": 3,
   "metadata": {},
   "outputs": [],
   "source": [
    "actions = np.arange(env.action_space.n, dtype=int)\n",
    "start_loc = env.unwrapped.start_loc\n",
    "target_loc = env.unwrapped.target_loc\n",
    "maze = env.unwrapped.maze\n",
    "size = maze.size"
   ]
  },
  {
   "cell_type": "code",
   "execution_count": 4,
   "metadata": {},
   "outputs": [
    {
     "name": "stdout",
     "output_type": "stream",
     "text": [
      "actions: [0 1 2 3], start loc: [0 0], target loc: [4 4], size: 25\n"
     ]
    }
   ],
   "source": [
    "print(f\"actions: {actions}, start loc: {start_loc}, target loc: {target_loc}, size: {size}\")"
   ]
  },
  {
   "cell_type": "code",
   "execution_count": 5,
   "metadata": {},
   "outputs": [],
   "source": [
    "def row_col_to_index(row, col, len):\n",
    "    \"\"\"\n",
    "    Converts (row,col) to an index in array\n",
    "    \"\"\"\n",
    "    return row*len + col\n",
    "\n",
    "def index_to_row_col(index, len):\n",
    "    \"\"\"\n",
    "    Converts index back to (row,col)\n",
    "    \"\"\"\n",
    "    return (index // len, index % len)"
   ]
  },
  {
   "cell_type": "code",
   "execution_count": 6,
   "metadata": {},
   "outputs": [],
   "source": [
    "# Uncomment to test row_col_to_index and index_to_row_col functions\n",
    "# for row in range(maze.shape[0]):\n",
    "#     for col in range(maze.shape[1]):\n",
    "#         index = row_col_to_index(row, col, maze.shape[0])\n",
    "#         print((row,col), index, index_to_row_col(index, maze.shape[0]))"
   ]
  },
  {
   "cell_type": "code",
   "execution_count": 7,
   "metadata": {},
   "outputs": [],
   "source": [
    "# Get the transition matrix T N^2 x N^2\n",
    "T = np.zeros(shape=(size, size))\n",
    "\n",
    "# loop through the maze\n",
    "for row in range(maze.shape[0]):\n",
    "    for col in range(maze.shape[1]):\n",
    "        # if we hit a barrier\n",
    "        if maze[row,col] == '1':\n",
    "            continue\n",
    "        # at each location, we want to store the location, keep track of which new states we transition into, and how many states we transition into\n",
    "        loc = np.array((row,col))\n",
    "        new_states = []\n",
    "        for action in actions:     # loop through actions\n",
    "            env.unwrapped.agent_loc = loc                  # set new agent location based on where we are in maze\n",
    "            obs, reward, term, _, _ = env.step(action)     # take action\n",
    "\n",
    "            # if dont move because we hit a boundary, do nothing\n",
    "            if (obs['agent'] == loc).all():\n",
    "                continue\n",
    "            new_states.append(obs['agent'])\n",
    "        \n",
    "        idx_cur = row_col_to_index(row, col, maze.shape[0])\n",
    "        for new_state in new_states:\n",
    "            idx_new = row_col_to_index(new_state[0], new_state[1], maze.shape[0])\n",
    "            T[idx_cur, idx_new] = 1/len(new_states)"
   ]
  },
  {
   "cell_type": "code",
   "execution_count": 8,
   "metadata": {},
   "outputs": [],
   "source": [
    "\"\"\"\n",
    "Split our T into T_nn & T_nt\n",
    "T_nn -> transition probability between non-terminal states \n",
    "T_nt = P -> transition probability from non-terminal to terminal states\n",
    "\"\"\"\n",
    "\n",
    "# Make T_nn by excluding the rows and columns associated with the terminal state (also works if we have multiple)\n",
    "target_locs = [target_loc]\n",
    "terminal_indices = [row_col_to_index(loc[0], loc[1], maze.shape[0]) for loc in target_locs]\n",
    "\n",
    "T_nn = T.copy()\n",
    "\n",
    "for index in terminal_indices:\n",
    "    T_nn = np.delete(T_nn, index, axis=0)\n",
    "    T_nn = np.delete(T_nn, index, axis=1)\n",
    "\n",
    "# Make T_nt by selecting only the rows corresponding to the terminal states\n",
    "all_indices = set(range(T.shape[0]-1))\n",
    "nonterminal_indices = all_indices - set(terminal_indices)\n",
    "\n",
    "T_nt = np.zeros((len(T)-1, len(terminal_indices)))\n",
    "\n",
    "for i, index_term in enumerate(terminal_indices):\n",
    "    for index in nonterminal_indices:\n",
    "        T_nt[index, i] = T[index, index_term]"
   ]
  },
  {
   "cell_type": "code",
   "execution_count": 9,
   "metadata": {},
   "outputs": [
    {
     "name": "stdout",
     "output_type": "stream",
     "text": [
      "(25, 25)\n",
      "(24, 1)\n",
      "(24, 24)\n"
     ]
    }
   ],
   "source": [
    "print(T.shape)\n",
    "print(T_nt.shape)\n",
    "print(T_nn.shape)"
   ]
  },
  {
   "cell_type": "code",
   "execution_count": 10,
   "metadata": {},
   "outputs": [],
   "source": [
    "\"\"\"\n",
    "Now we can use T_nn to solve for our DR (M)\n",
    "\"\"\"\n",
    "_lambda = 1     # define lambda\n",
    "c = np.full(T_nn.shape[0], -1)     # define our cost to be -1\n",
    "\n",
    "# Make our diagonal matrix\n",
    "diag_matrix = np.diag(np.exp(c / _lambda))\n",
    "\n",
    "# Subtract from T_nn to get L\n",
    "L = diag_matrix - T_nn\n",
    "\n",
    "# Take the inverse to obtain the DR (M)\n",
    "M = np.linalg.inv(L)"
   ]
  },
  {
   "cell_type": "code",
   "execution_count": 11,
   "metadata": {},
   "outputs": [],
   "source": [
    "\"\"\"\n",
    "Now that we have M and P (T_nt), we can solve for exp_v\n",
    "\"\"\"\n",
    "t = len(target_locs)\n",
    "r = np.full(t, 2)  # Create the vector r filled with 2\n",
    "\n",
    "# Calculate the right-hand side (RHS) of the equation\n",
    "exp_v = M @ T_nt * np.exp(r)"
   ]
  },
  {
   "cell_type": "code",
   "execution_count": 12,
   "metadata": {},
   "outputs": [
    {
     "name": "stderr",
     "output_type": "stream",
     "text": [
      "/var/folders/sf/4_xlxj4j2r1_sx5v07843wbw0000gn/T/ipykernel_13766/2759705808.py:5: DeprecationWarning: Conversion of an array with ndim > 0 to a scalar is deprecated, and will error in future. Ensure you extract a single element from your array before performing this operation. (Deprecated NumPy 1.25.)\n",
      "  holder[idx] = np.exp(r)\n",
      "/var/folders/sf/4_xlxj4j2r1_sx5v07843wbw0000gn/T/ipykernel_13766/2759705808.py:7: DeprecationWarning: Conversion of an array with ndim > 0 to a scalar is deprecated, and will error in future. Ensure you extract a single element from your array before performing this operation. (Deprecated NumPy 1.25.)\n",
      "  holder[idx] = exp_v[i]\n"
     ]
    }
   ],
   "source": [
    "# we need to add back the terminal states\n",
    "holder = np.zeros(T.shape[0])\n",
    "\n",
    "for idx in terminal_indices:\n",
    "    holder[idx] = np.exp(r)\n",
    "for i, idx in enumerate(nonterminal_indices):\n",
    "    holder[idx] = exp_v[i]"
   ]
  },
  {
   "cell_type": "code",
   "execution_count": 17,
   "metadata": {},
   "outputs": [],
   "source": [
    "exp_v = np.copy(holder)"
   ]
  },
  {
   "cell_type": "code",
   "execution_count": 18,
   "metadata": {},
   "outputs": [
    {
     "name": "stdout",
     "output_type": "stream",
     "text": [
      "(25,) (25,)\n"
     ]
    }
   ],
   "source": [
    "# solve for the optimal policy by choosing the next optimal state\n",
    "optimal_policy = np.zeros(len(exp_v))\n",
    "print(optimal_policy.shape, exp_v.shape)\n",
    "env.reset()\n",
    "\n",
    "for row in range(maze.shape[0]):\n",
    "    for col in range(maze.shape[1]):\n",
    "        # if we hit a barrier or terminal\n",
    "        if maze[row,col] == '1' or maze[row,col] == 'G':\n",
    "            continue\n",
    "\n",
    "        loc = np.array((row,col))\n",
    "        loc_index = row_col_to_index(row, col, maze.shape[0]-1)\n",
    "\n",
    "        max_action = 0\n",
    "        for action in actions:     # loop through actions\n",
    "            env.unwrapped.agent_loc = loc                  # set new agent location based on where we are in maze\n",
    "            obs, reward, term, _, _ = env.step(action)     # take action\n",
    "\n",
    "            # if dont move because we hit a boundary, do nothing\n",
    "            if (obs['agent'] == loc).all():\n",
    "                continue\n",
    "\n",
    "            succ_state_index = row_col_to_index(obs['agent'][0], obs['agent'][1], maze.shape[0]-1)     # index of successor state\n",
    "            if exp_v[succ_state_index] > max_action: \n",
    "                optimal_policy[loc_index] = action\n",
    "                max_action = exp_v[succ_state_index]\n"
   ]
  },
  {
   "cell_type": "code",
   "execution_count": 21,
   "metadata": {},
   "outputs": [
    {
     "name": "stdout",
     "output_type": "stream",
     "text": [
      "[[-5.37901201 -1.97882793  3.92307179  4.86526285  5.61540985]\n",
      " [-1.97882793  0.          0.         -4.16899111 -0.73367517]\n",
      " [ 3.92307179  0.          0.         -8.73264603 -2.25613078]\n",
      " [ 4.86526285 -4.16899111 -8.73264603  0.          6.97636881]\n",
      " [ 5.61540985 -0.73367517 -2.25613078  6.97636881  7.3890561 ]]\n"
     ]
    }
   ],
   "source": [
    "print(exp_v.reshape((5,5)))"
   ]
  },
  {
   "cell_type": "code",
   "execution_count": 139,
   "metadata": {},
   "outputs": [
    {
     "name": "stdout",
     "output_type": "stream",
     "text": [
      "[['S' '0' '0' '0' '0']\n",
      " ['0' '1' '1' '0' '0']\n",
      " ['0' '1' '1' '0' '0']\n",
      " ['0' '0' '0' '1' '0']\n",
      " ['0' '0' '0' '0' 'G']]\n"
     ]
    }
   ],
   "source": [
    "print(maze)"
   ]
  },
  {
   "cell_type": "code",
   "execution_count": null,
   "metadata": {},
   "outputs": [],
   "source": []
  }
 ],
 "metadata": {
  "kernelspec": {
   "display_name": "base",
   "language": "python",
   "name": "python3"
  },
  "language_info": {
   "codemirror_mode": {
    "name": "ipython",
    "version": 3
   },
   "file_extension": ".py",
   "mimetype": "text/x-python",
   "name": "python",
   "nbconvert_exporter": "python",
   "pygments_lexer": "ipython3",
   "version": "3.10.12"
  },
  "orig_nbformat": 4
 },
 "nbformat": 4,
 "nbformat_minor": 2
}
