{
 "cells": [
  {
   "cell_type": "code",
   "execution_count": 1,
   "metadata": {},
   "outputs": [],
   "source": [
    "import os\n",
    "\n",
    "import numpy as np\n",
    "import gymnasium as gym\n",
    "\n",
    "import gym_env"
   ]
  },
  {
   "cell_type": "code",
   "execution_count": 2,
   "metadata": {},
   "outputs": [
    {
     "name": "stderr",
     "output_type": "stream",
     "text": [
      "/Users/abizzle/anaconda3/envs/gym/lib/python3.10/site-packages/gymnasium/utils/passive_env_checker.py:181: DeprecationWarning: \u001b[33mWARN: Current gymnasium version requires that `Env.reset` can be passed `options` to allow the environment initialisation to be passed additional information.\u001b[0m\n",
      "  logger.deprecation(\n"
     ]
    },
    {
     "data": {
      "text/plain": [
       "({'agent': array([0, 0]), 'target': array([14, 14])}, {'distance': 28.0})"
      ]
     },
     "execution_count": 2,
     "metadata": {},
     "output_type": "execute_result"
    }
   ],
   "source": [
    "# Construct the environment\n",
    "env = gym.make(\"simple-15x15\")\n",
    "env.reset()"
   ]
  },
  {
   "cell_type": "code",
   "execution_count": 3,
   "metadata": {},
   "outputs": [],
   "source": [
    "actions = np.arange(env.action_space.n, dtype=int)\n",
    "start_loc = env.unwrapped.start_loc\n",
    "target_loc = env.unwrapped.target_loc\n",
    "maze = env.unwrapped.maze\n",
    "size = maze.size\n",
    "target_locs = [target_loc]"
   ]
  },
  {
   "cell_type": "code",
   "execution_count": 4,
   "metadata": {},
   "outputs": [
    {
     "name": "stdout",
     "output_type": "stream",
     "text": [
      "actions: [0 1 2 3], start loc: [0 0], target loc: [14 14], size: 225\n"
     ]
    }
   ],
   "source": [
    "print(f\"actions: {actions}, start loc: {start_loc}, target loc: {target_loc}, size: {size}\")"
   ]
  },
  {
   "cell_type": "code",
   "execution_count": 5,
   "metadata": {},
   "outputs": [],
   "source": [
    "def row_col_to_index(row, col, len):\n",
    "    \"\"\"\n",
    "    Converts (row,col) to an index in array\n",
    "    \"\"\"\n",
    "    return row*len + col\n",
    "\n",
    "def index_to_row_col(index, len):\n",
    "    \"\"\"\n",
    "    Converts index back to (row,col)\n",
    "    \"\"\"\n",
    "    return (index // len, index % len)"
   ]
  },
  {
   "cell_type": "code",
   "execution_count": 6,
   "metadata": {},
   "outputs": [],
   "source": [
    "# Uncomment to test row_col_to_index and index_to_row_col functions\n",
    "# for row in range(maze.shape[0]):\n",
    "#     for col in range(maze.shape[1]):\n",
    "#         index = row_col_to_index(row, col, maze.shape[0])\n",
    "#         print((row,col), index, index_to_row_col(index, maze.shape[0]))"
   ]
  },
  {
   "cell_type": "code",
   "execution_count": 7,
   "metadata": {},
   "outputs": [],
   "source": [
    "def get_blocked_states(maze):\n",
    "    blocked_states = []\n",
    "\n",
    "    for i in range(maze.shape[0]):\n",
    "        for j in range(maze.shape[1]):\n",
    "            if maze[i,j] == \"1\":\n",
    "                blocked_states.append((i,j))\n",
    "    \n",
    "    return blocked_states"
   ]
  },
  {
   "cell_type": "code",
   "execution_count": 8,
   "metadata": {},
   "outputs": [],
   "source": [
    "def create_transition_matrix_mapping(maze):\n",
    "    blocked_states = get_blocked_states(maze)\n",
    "    n = len(maze)  # Size of the maze (N)\n",
    "\n",
    "    # Create a mapping from maze state indices to transition matrix indices\n",
    "    mapping = {}\n",
    "    matrix_idx = 0\n",
    "\n",
    "    for i in range(n):\n",
    "        for j in range(n):\n",
    "            if (i, j) not in blocked_states:\n",
    "                mapping[(i, j)] = matrix_idx\n",
    "                matrix_idx += 1\n",
    "\n",
    "    return mapping, len(mapping)"
   ]
  },
  {
   "cell_type": "code",
   "execution_count": 9,
   "metadata": {},
   "outputs": [],
   "source": [
    "mapping, m = create_transition_matrix_mapping(maze)\n",
    "reverse_mapping = {index: (i, j) for (i, j), index in mapping.items()}"
   ]
  },
  {
   "cell_type": "code",
   "execution_count": 10,
   "metadata": {},
   "outputs": [],
   "source": [
    "# Get the transition matrix T N^2 x N^2\n",
    "T = np.zeros(shape=(m, m))\n",
    "\n",
    "# loop through the maze\n",
    "for row in range(maze.shape[0]):\n",
    "    for col in range(maze.shape[1]):\n",
    "        # if we hit a barrier\n",
    "        if maze[row,col] == '1':\n",
    "            continue\n",
    "            \n",
    "        # at each location, we want to store the location, keep track of which new states we transition into, and how many states we transition into\n",
    "        loc = np.array((row,col))\n",
    "        idx_cur = mapping[row, col]\n",
    "\n",
    "        # if we hit a goal\n",
    "        if maze[row, col] == 'G':\n",
    "            T[idx_cur, idx_cur] = 1\n",
    "            continue\n",
    "\n",
    "        new_states = []\n",
    "        for action in actions:     # loop through actions\n",
    "            env.unwrapped.agent_loc = loc                  # set new agent location based on where we are in maze\n",
    "            obs, reward, term, _, _ = env.step(action)     # take action\n",
    "\n",
    "            # if dont move because we hit a boundary, do nothing\n",
    "            if (obs['agent'] == loc).all():\n",
    "                continue\n",
    "            new_states.append(obs['agent'])\n",
    "        \n",
    "        for new_state in new_states:\n",
    "            idx_new =mapping[new_state[0], new_state[1]]\n",
    "            T[idx_cur, idx_new] = 1/len(new_states)"
   ]
  },
  {
   "cell_type": "code",
   "execution_count": 11,
   "metadata": {},
   "outputs": [],
   "source": [
    "# for i in range(len(T)):\n",
    "#     print(sum(T[i]))\n",
    "# print(T[-1])\n",
    "assert np.all(np.isclose(np.sum(T, axis=1), 1.0)), \"Not all rows sum to one.\""
   ]
  },
  {
   "cell_type": "markdown",
   "metadata": {},
   "source": [
    "# Old Method"
   ]
  },
  {
   "cell_type": "code",
   "execution_count": 13,
   "metadata": {},
   "outputs": [
    {
     "data": {
      "text/plain": [
       "'\\nSplit our T into T_nn & T_nt\\nT_nn -> transition probability between non-terminal states \\nT_nt = P -> transition probability from non-terminal to terminal states\\n'"
      ]
     },
     "execution_count": 13,
     "metadata": {},
     "output_type": "execute_result"
    }
   ],
   "source": [
    "\"\"\"\n",
    "Split our T into T_nn & T_nt\n",
    "T_nn -> transition probability between non-terminal states \n",
    "T_nt = P -> transition probability from non-terminal to terminal states\n",
    "\"\"\"\n",
    "\n",
    "# Make T_nn by excluding the rows and columns associated with the terminal state (also works if we have multiple)\n",
    "# target_locs = [target_loc]\n",
    "# terminal_indices = [mapping[loc[0], loc[1]] for loc in target_locs]\n",
    "\n",
    "# T_nn = T.copy()\n",
    "\n",
    "# for index in terminal_indices:\n",
    "#     T_nn = np.delete(T_nn, index, axis=0)\n",
    "#     T_nn = np.delete(T_nn, index, axis=1)\n",
    "\n",
    "# # Make T_nt by selecting only the rows corresponding to the terminal states\n",
    "# all_indices = set(range(T.shape[0]-1))\n",
    "# nonterminal_indices = all_indices - set(terminal_indices)\n",
    "\n",
    "# T_nt = np.zeros((len(T)-1, len(terminal_indices)))\n",
    "\n",
    "# for i, index_term in enumerate(terminal_indices):\n",
    "#     for index in nonterminal_indices:\n",
    "#         T_nt[index, i] = T[index, index_term]"
   ]
  },
  {
   "cell_type": "code",
   "execution_count": 14,
   "metadata": {},
   "outputs": [],
   "source": [
    "# print(T.shape)\n",
    "# print(T_nt.shape)\n",
    "# print(T_nn.shape)"
   ]
  },
  {
   "cell_type": "code",
   "execution_count": 15,
   "metadata": {},
   "outputs": [],
   "source": [
    "# for i in range(len(T_nt)):\n",
    "#     print(reverse_mapping[i], T_nt[i])"
   ]
  },
  {
   "cell_type": "code",
   "execution_count": 16,
   "metadata": {},
   "outputs": [
    {
     "data": {
      "text/plain": [
       "'\\nNow we can use T_nn to solve for our DR (M)\\n'"
      ]
     },
     "execution_count": 16,
     "metadata": {},
     "output_type": "execute_result"
    }
   ],
   "source": [
    "\"\"\"\n",
    "Now we can use T_nn to solve for our DR (M)\n",
    "\"\"\"\n",
    "# _lambda = 1     # define lambda\n",
    "# c = np.full(T_nn.shape[0], 1)     # define our cost to be 1 as our reward is negative 1\n",
    "\n",
    "# # Make our diagonal matrix\n",
    "# diag_matrix = np.diag(np.exp(c / _lambda))\n",
    "\n",
    "# # Subtract from T_nn to get L\n",
    "# L = diag_matrix - T_nn\n",
    "\n",
    "# # Take the inverse to obtain the DR (M)\n",
    "# M = np.linalg.inv(L)"
   ]
  },
  {
   "cell_type": "code",
   "execution_count": 17,
   "metadata": {},
   "outputs": [],
   "source": [
    "# M.shape"
   ]
  },
  {
   "cell_type": "code",
   "execution_count": 18,
   "metadata": {},
   "outputs": [
    {
     "data": {
      "text/plain": [
       "'\\nNow that we have M and P (T_nt), we can solve for exp_v\\n'"
      ]
     },
     "execution_count": 18,
     "metadata": {},
     "output_type": "execute_result"
    }
   ],
   "source": [
    "\"\"\"\n",
    "Now that we have M and P (T_nt), we can solve for exp_v\n",
    "\"\"\"\n",
    "# t = len(target_locs)\n",
    "# r = np.full(t, 0)  # Create the vector r filled with 2\n",
    "\n",
    "# # Calculate the right-hand side (RHS) of the equation\n",
    "# exp_v = M @ T_nt @ np.exp(r / _lambda)"
   ]
  },
  {
   "cell_type": "code",
   "execution_count": 19,
   "metadata": {},
   "outputs": [],
   "source": [
    "# exp_v"
   ]
  },
  {
   "cell_type": "code",
   "execution_count": 20,
   "metadata": {},
   "outputs": [],
   "source": [
    "# we need to add back the terminal states\n",
    "# holder = np.zeros(T.shape[0])\n",
    "\n",
    "# for idx in terminal_indices:\n",
    "#     holder[idx] = np.exp(r)\n",
    "# for i, idx in enumerate(nonterminal_indices):\n",
    "#     holder[idx] = exp_v[i]"
   ]
  },
  {
   "cell_type": "code",
   "execution_count": 21,
   "metadata": {},
   "outputs": [],
   "source": [
    "# exp_v = np.copy(holder)"
   ]
  },
  {
   "cell_type": "code",
   "execution_count": 97,
   "metadata": {},
   "outputs": [],
   "source": [
    "# solve for the optimal policy by choosing the next optimal state\n",
    "# optimal_policy = np.zeros(len(exp_v))\n",
    "# print(optimal_policy.shape, exp_v.shape)\n",
    "# env.reset()\n",
    "\n",
    "# for row in range(maze.shape[0]):\n",
    "#     for col in range(maze.shape[1]):\n",
    "#         # if we hit a barrier or terminal\n",
    "#         if maze[row,col] == '1' or maze[row,col] == 'G':\n",
    "#             continue\n",
    "\n",
    "#         loc = np.array((row,col))\n",
    "#         loc_index = row_col_to_index(row, col, maze.shape[0]-1)\n",
    "\n",
    "#         max_action = 0\n",
    "#         for action in actions:     # loop through actions\n",
    "#             env.unwrapped.agent_loc = loc                  # set new agent location based on where we are in maze\n",
    "#             obs, reward, term, _, _ = env.step(action)     # take action\n",
    "\n",
    "#             # if dont move because we hit a boundary, do nothing\n",
    "#             if (obs['agent'] == loc).all():\n",
    "#                 continue\n",
    "\n",
    "#             succ_state_index = row_col_to_index(obs['agent'][0], obs['agent'][1], maze.shape[0]-1)     # index of successor state\n",
    "#             if exp_v[succ_state_index] > max_action: \n",
    "#                 optimal_policy[loc_index] = action\n",
    "#                 max_action = exp_v[succ_state_index]\n"
   ]
  },
  {
   "cell_type": "code",
   "execution_count": 22,
   "metadata": {},
   "outputs": [],
   "source": [
    "# print(exp_v)\n",
    "# print(np.log(exp_v))"
   ]
  },
  {
   "cell_type": "code",
   "execution_count": 23,
   "metadata": {},
   "outputs": [],
   "source": [
    "# v_maze = np.zeros_like(maze)\n",
    "# for row in range(v_maze.shape[0]):\n",
    "#     for col in range(v_maze.shape[1]):\n",
    "#         if maze[row, col] == \"1\":\n",
    "#             v_maze[row,col] = \"BAR\"\n",
    "#             continue\n",
    "#         v_maze[row,col] = round(np.log(exp_v[mapping[(row,col)]]), 2)"
   ]
  },
  {
   "cell_type": "code",
   "execution_count": 24,
   "metadata": {},
   "outputs": [],
   "source": [
    "# Set formatting options\n",
    "# print(v_maze)"
   ]
  },
  {
   "cell_type": "markdown",
   "metadata": {},
   "source": [
    "# New method"
   ]
  },
  {
   "cell_type": "code",
   "execution_count": 26,
   "metadata": {},
   "outputs": [
    {
     "name": "stdout",
     "output_type": "stream",
     "text": [
      "[['S' '0' '1' '0' '0' '0' '1' '0' '0' '1' '0' '0' '0' '0' '0']\n",
      " ['0' '0' '0' '1' '0' '0' '0' '1' '0' '0' '1' '0' '0' '0' '0']\n",
      " ['0' '0' '0' '1' '0' '0' '0' '1' '0' '0' '1' '0' '0' '0' '0']\n",
      " ['0' '0' '1' '0' '0' '0' '0' '1' '0' '0' '1' '1' '0' '0' '0']\n",
      " ['0' '0' '1' '0' '0' '0' '0' '1' '1' '0' '0' '1' '0' '0' '0']\n",
      " ['0' '0' '1' '0' '0' '0' '0' '1' '0' '0' '0' '0' '1' '1' '1']\n",
      " ['0' '0' '0' '1' '0' '0' '0' '0' '0' '0' '0' '1' '1' '0' '0']\n",
      " ['0' '0' '0' '1' '1' '1' '1' '0' '0' '0' '0' '1' '0' '0' '0']\n",
      " ['0' '0' '0' '1' '0' '0' '0' '0' '1' '0' '0' '1' '0' '0' '0']\n",
      " ['0' '0' '0' '0' '0' '0' '0' '1' '1' '0' '0' '0' '0' '0' '0']\n",
      " ['0' '0' '0' '0' '1' '1' '1' '0' '1' '1' '1' '1' '0' '0' '0']\n",
      " ['0' '0' '0' '0' '1' '0' '0' '0' '0' '0' '1' '0' '0' '0' '0']\n",
      " ['0' '0' '0' '0' '1' '0' '0' '0' '0' '0' '1' '0' '0' '1' '1']\n",
      " ['0' '0' '0' '0' '1' '0' '0' '0' '0' '0' '0' '0' '0' '0' '0']\n",
      " ['0' '0' '0' '0' '1' '0' '0' '0' '0' '0' '0' '0' '0' '0' 'G']]\n"
     ]
    }
   ],
   "source": [
    "print(maze)"
   ]
  },
  {
   "cell_type": "code",
   "execution_count": 27,
   "metadata": {},
   "outputs": [],
   "source": [
    "terminals = np.diag(T) == 1"
   ]
  },
  {
   "cell_type": "code",
   "execution_count": 31,
   "metadata": {},
   "outputs": [],
   "source": [
    "# Define cost and lambda and reward\n",
    "# Calculate L\n",
    "_lambda = 1     # define lambda\n",
    "c = np.full(len(T), 1)     # define our cost to be 1 as our cost is -1\n",
    "c[terminals] = 0\n",
    "r = -c"
   ]
  },
  {
   "cell_type": "code",
   "execution_count": 32,
   "metadata": {},
   "outputs": [],
   "source": [
    "L = np.diag(np.exp(c / _lambda)) - T\n",
    "\n",
    "# Remove rows and columns corresponding to terminals\n",
    "L = np.delete(L, terminals, axis=0)\n",
    "L = np.delete(L, terminals, axis=1)\n",
    "\n",
    "# Calculate the inverse of L\n",
    "M = np.linalg.inv(L)"
   ]
  },
  {
   "cell_type": "code",
   "execution_count": 33,
   "metadata": {},
   "outputs": [
    {
     "data": {
      "text/plain": [
       "(174, 174)"
      ]
     },
     "execution_count": 33,
     "metadata": {},
     "output_type": "execute_result"
    }
   ],
   "source": [
    "M.shape"
   ]
  },
  {
   "cell_type": "code",
   "execution_count": 34,
   "metadata": {},
   "outputs": [],
   "source": [
    "# Calculate P = T_{NT}\n",
    "P = T[~terminals][:,terminals]\n",
    "\n",
    "# Calculate expr\n",
    "expr = np.exp(r[terminals] / _lambda)\n",
    "\n",
    "# Initialize expv as zeros\n",
    "expv = np.zeros(r.shape)\n",
    "\n",
    "# Calculate expv_N for non-terminal states\n",
    "expv_N = M @ P @ expr\n",
    "expv[~terminals] = expv_N\n",
    "\n",
    "# Calculate expv for terminal states\n",
    "expv[terminals] = np.exp(r[terminals] / _lambda)"
   ]
  },
  {
   "cell_type": "code",
   "execution_count": 35,
   "metadata": {},
   "outputs": [
    {
     "name": "stdout",
     "output_type": "stream",
     "text": [
      "(174, 174)\n",
      "(174, 1)\n",
      "(1,)\n",
      "(175,)\n",
      "(174,)\n"
     ]
    }
   ],
   "source": [
    "print(M.shape)\n",
    "print(P.shape)\n",
    "print(expr.shape)\n",
    "print(expv.shape)\n",
    "print(expv_N.shape)"
   ]
  },
  {
   "cell_type": "code",
   "execution_count": 36,
   "metadata": {},
   "outputs": [
    {
     "data": {
      "text/plain": [
       "array([1.90597507e-26, 1.76984309e-26, 2.63043881e-20, 7.15027401e-20,\n",
       "       1.88075445e-19, 2.65430300e-17, 7.21514362e-17, 0.00000000e+00,\n",
       "       0.00000000e+00, 0.00000000e+00, 0.00000000e+00, 0.00000000e+00,\n",
       "       8.59211169e-26, 7.71588955e-26, 3.90719118e-26, 3.68713964e-19,\n",
       "       9.50981390e-19, 3.85842837e-18, 3.65712846e-16, 1.12606834e-15,\n",
       "       0.00000000e+00, 0.00000000e+00, 0.00000000e+00, 0.00000000e+00,\n",
       "       6.04454786e-25, 6.96267035e-25, 1.35258040e-25, 1.98432128e-18,\n",
       "       5.92492394e-18, 2.00256101e-17, 1.78411198e-15, 5.75622934e-15,\n",
       "       0.00000000e+00, 0.00000000e+00, 0.00000000e+00, 0.00000000e+00,\n",
       "       4.14704724e-24, 6.75372839e-24, 4.73194575e-18, 9.88819550e-18,\n",
       "       4.14615396e-17, 1.53522404e-16, 8.42721532e-15, 4.40309806e-14,\n",
       "       0.00000000e+00, 0.00000000e+00, 0.00000000e+00, 2.64603462e-23,\n",
       "       5.02322972e-23, 1.58373288e-17, 5.93378019e-17, 2.81481075e-16,\n",
       "       1.19046433e-15, 3.44882398e-13, 8.94712082e-13, 0.00000000e+00,\n",
       "       0.00000000e+00, 0.00000000e+00, 1.61400691e-22, 3.76422547e-22,\n",
       "       6.50812216e-17, 3.37980875e-16, 1.76931590e-15, 9.27304919e-15,\n",
       "       8.54449659e-13, 1.87371961e-12, 4.51927679e-12, 1.66254902e-12,\n",
       "       9.13314800e-22, 2.85803472e-21, 1.38082969e-20, 1.78117417e-15,\n",
       "       9.34548586e-15, 7.26605031e-14, 5.73916641e-13, 2.77155036e-12,\n",
       "       1.46545830e-11, 4.47076912e-11, 1.13931635e-09, 6.84921044e-10,\n",
       "       4.42850566e-21, 1.59777411e-20, 7.22116506e-20, 1.83599067e-12,\n",
       "       1.40524706e-11, 1.09988185e-10, 3.45410454e-10, 2.15503937e-08,\n",
       "       5.50904482e-09, 2.58430051e-09, 1.92227235e-20, 9.42298223e-20,\n",
       "       5.59088815e-19, 1.12852348e-15, 5.77195763e-15, 4.41523128e-14,\n",
       "       3.45832975e-13, 8.21798035e-10, 2.66207300e-09, 1.11651042e-07,\n",
       "       3.46265352e-08, 1.48806054e-08, 5.81000121e-20, 4.30283575e-19,\n",
       "       4.39284143e-18, 4.58074007e-17, 3.63332121e-16, 1.78858642e-15,\n",
       "       8.45035616e-15, 3.92957480e-09, 2.05415855e-08, 1.60921808e-07,\n",
       "       8.54320069e-07, 2.44458033e-07, 8.41382025e-08, 2.42903230e-20,\n",
       "       1.33356828e-19, 9.67150977e-19, 5.82731265e-18, 5.48420388e-09,\n",
       "       8.77209999e-06, 1.68493851e-06, 4.26795402e-07, 6.62699135e-21,\n",
       "       2.82808891e-20, 1.62444801e-19, 7.46282557e-19, 9.15450917e-10,\n",
       "       3.02189855e-09, 1.49076117e-08, 9.44679428e-08, 3.81754513e-07,\n",
       "       4.54897072e-05, 6.89958614e-05, 8.87719748e-06, 1.71137385e-06,\n",
       "       1.47087835e-21, 5.07308841e-21, 2.45685755e-20, 9.60614854e-20,\n",
       "       1.95500864e-09, 8.82005305e-09, 5.91183153e-08, 3.73709352e-07,\n",
       "       1.98096477e-06, 1.78311828e-04, 6.87061781e-04, 2.94705879e-22,\n",
       "       8.39993206e-22, 3.55787531e-21, 1.25154384e-20, 6.20728939e-09,\n",
       "       3.18063373e-08, 2.45363951e-07, 1.92883834e-06, 1.53989977e-05,\n",
       "       1.25699766e-04, 7.21553914e-04, 5.35557497e-03, 4.00067217e-02,\n",
       "       1.91298546e-01, 9.24093562e-23, 2.07683468e-22, 7.61224031e-22,\n",
       "       2.44210558e-21, 1.68581399e-08, 8.54430613e-08, 6.48110485e-07,\n",
       "       4.95443385e-06, 3.78256937e-05, 2.88109256e-04, 2.18596101e-03,\n",
       "       1.68165111e-02, 1.29594513e-01, 1.00000000e+00])"
      ]
     },
     "execution_count": 36,
     "metadata": {},
     "output_type": "execute_result"
    }
   ],
   "source": [
    "expv"
   ]
  },
  {
   "cell_type": "code",
   "execution_count": 37,
   "metadata": {},
   "outputs": [
    {
     "name": "stderr",
     "output_type": "stream",
     "text": [
      "/var/folders/sf/4_xlxj4j2r1_sx5v07843wbw0000gn/T/ipykernel_54424/3308367700.py:7: RuntimeWarning: divide by zero encountered in log\n",
      "  v_maze[row,col] = round(np.log(expv[mapping[(row,col)]]), 2)\n"
     ]
    }
   ],
   "source": [
    "v_maze = np.zeros_like(maze)\n",
    "for row in range(v_maze.shape[0]):\n",
    "    for col in range(v_maze.shape[1]):\n",
    "        if maze[row, col] == \"1\":\n",
    "            v_maze[row,col] = \"BAR\"\n",
    "            continue\n",
    "        v_maze[row,col] = round(np.log(expv[mapping[(row,col)]]), 2)"
   ]
  },
  {
   "cell_type": "code",
   "execution_count": 43,
   "metadata": {},
   "outputs": [
    {
     "data": {
      "text/plain": [
       "(15, 15)"
      ]
     },
     "execution_count": 43,
     "metadata": {},
     "output_type": "execute_result"
    }
   ],
   "source": [
    "v_maze.shape"
   ]
  },
  {
   "cell_type": "code",
   "execution_count": 49,
   "metadata": {},
   "outputs": [],
   "source": [
    "# Calculate G = T * expv\n",
    "G = T.dot(expv)\n",
    "\n",
    "# Calculate zg = (expv' / G)\n",
    "zg = (expv.T / G).T\n",
    "\n",
    "# Calculate pii = T * zg\n",
    "pii = T * zg"
   ]
  },
  {
   "cell_type": "code",
   "execution_count": null,
   "metadata": {},
   "outputs": [],
   "source": []
  }
 ],
 "metadata": {
  "kernelspec": {
   "display_name": "base",
   "language": "python",
   "name": "python3"
  },
  "language_info": {
   "codemirror_mode": {
    "name": "ipython",
    "version": 3
   },
   "file_extension": ".py",
   "mimetype": "text/x-python",
   "name": "python",
   "nbconvert_exporter": "python",
   "pygments_lexer": "ipython3",
   "version": "3.10.12"
  },
  "orig_nbformat": 4
 },
 "nbformat": 4,
 "nbformat_minor": 2
}
