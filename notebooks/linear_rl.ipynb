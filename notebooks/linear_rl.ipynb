{
 "cells": [
  {
   "cell_type": "code",
   "execution_count": 1,
   "metadata": {},
   "outputs": [],
   "source": [
    "import os\n",
    "\n",
    "import numpy as np\n",
    "import gymnasium as gym\n",
    "\n",
    "import gym_env"
   ]
  },
  {
   "cell_type": "code",
   "execution_count": 2,
   "metadata": {},
   "outputs": [
    {
     "name": "stderr",
     "output_type": "stream",
     "text": [
      "/Users/abizzle/anaconda3/envs/gym/lib/python3.10/site-packages/gymnasium/utils/passive_env_checker.py:181: DeprecationWarning: \u001b[33mWARN: Current gymnasium version requires that `Env.reset` can be passed `options` to allow the environment initialisation to be passed additional information.\u001b[0m\n",
      "  logger.deprecation(\n"
     ]
    },
    {
     "data": {
      "text/plain": [
       "({'agent': array([0, 0]), 'target': array([4, 4])}, {'distance': 8.0})"
      ]
     },
     "execution_count": 2,
     "metadata": {},
     "output_type": "execute_result"
    }
   ],
   "source": [
    "# Construct the environment\n",
    "env = gym.make(\"simple-5x5\")\n",
    "env.reset()"
   ]
  },
  {
   "cell_type": "code",
   "execution_count": 3,
   "metadata": {},
   "outputs": [],
   "source": [
    "actions = np.arange(env.action_space.n, dtype=int)\n",
    "start_loc = env.unwrapped.start_loc\n",
    "target_loc = env.unwrapped.target_loc\n",
    "maze = env.unwrapped.maze\n",
    "size = maze.size\n",
    "target_locs = [target_loc]"
   ]
  },
  {
   "cell_type": "code",
   "execution_count": 4,
   "metadata": {},
   "outputs": [
    {
     "name": "stdout",
     "output_type": "stream",
     "text": [
      "actions: [0 1 2 3], start loc: [0 0], target loc: [4 4], size: 25\n"
     ]
    }
   ],
   "source": [
    "print(f\"actions: {actions}, start loc: {start_loc}, target loc: {target_loc}, size: {size}\")"
   ]
  },
  {
   "cell_type": "code",
   "execution_count": 5,
   "metadata": {},
   "outputs": [],
   "source": [
    "def row_col_to_index(row, col, len):\n",
    "    \"\"\"\n",
    "    Converts (row,col) to an index in array\n",
    "    \"\"\"\n",
    "    return row*len + col\n",
    "\n",
    "def index_to_row_col(index, len):\n",
    "    \"\"\"\n",
    "    Converts index back to (row,col)\n",
    "    \"\"\"\n",
    "    return (index // len, index % len)"
   ]
  },
  {
   "cell_type": "code",
   "execution_count": 6,
   "metadata": {},
   "outputs": [],
   "source": [
    "# Uncomment to test row_col_to_index and index_to_row_col functions\n",
    "# for row in range(maze.shape[0]):\n",
    "#     for col in range(maze.shape[1]):\n",
    "#         index = row_col_to_index(row, col, maze.shape[0])\n",
    "#         print((row,col), index, index_to_row_col(index, maze.shape[0]))"
   ]
  },
  {
   "cell_type": "code",
   "execution_count": 7,
   "metadata": {},
   "outputs": [],
   "source": [
    "def get_blocked_states(maze):\n",
    "    blocked_states = []\n",
    "\n",
    "    for i in range(maze.shape[0]):\n",
    "        for j in range(maze.shape[1]):\n",
    "            if maze[i,j] == \"1\":\n",
    "                blocked_states.append((i,j))\n",
    "    \n",
    "    return blocked_states"
   ]
  },
  {
   "cell_type": "code",
   "execution_count": 8,
   "metadata": {},
   "outputs": [],
   "source": [
    "def create_transition_matrix_mapping(maze):\n",
    "    blocked_states = get_blocked_states(maze)\n",
    "    n = len(maze)  # Size of the maze (N)\n",
    "\n",
    "    # Create a mapping from maze state indices to transition matrix indices\n",
    "    mapping = {}\n",
    "    matrix_idx = 0\n",
    "\n",
    "    for i in range(n):\n",
    "        for j in range(n):\n",
    "            if (i, j) not in blocked_states:\n",
    "                mapping[(i, j)] = matrix_idx\n",
    "                matrix_idx += 1\n",
    "\n",
    "    return mapping, len(mapping)"
   ]
  },
  {
   "cell_type": "code",
   "execution_count": 9,
   "metadata": {},
   "outputs": [],
   "source": [
    "mapping, m = create_transition_matrix_mapping(maze)\n",
    "reverse_mapping = {index: (i, j) for (i, j), index in mapping.items()}"
   ]
  },
  {
   "cell_type": "code",
   "execution_count": 10,
   "metadata": {},
   "outputs": [],
   "source": [
    "# Get the transition matrix T N^2 x N^2\n",
    "T = np.zeros(shape=(m, m))\n",
    "\n",
    "# loop through the maze\n",
    "for row in range(maze.shape[0]):\n",
    "    for col in range(maze.shape[1]):\n",
    "        # if we hit a barrier\n",
    "        if maze[row,col] == '1':\n",
    "            continue\n",
    "            \n",
    "        # at each location, we want to store the location, keep track of which new states we transition into, and how many states we transition into\n",
    "        loc = np.array((row,col))\n",
    "        idx_cur = mapping[row, col]\n",
    "\n",
    "        # if we hit a goal\n",
    "        if maze[row, col] == 'G':\n",
    "            T[idx_cur, idx_cur] = 1\n",
    "            continue\n",
    "\n",
    "        new_states = []\n",
    "        for action in actions:     # loop through actions\n",
    "            env.unwrapped.agent_loc = loc                  # set new agent location based on where we are in maze\n",
    "            obs, reward, term, _, _ = env.step(action)     # take action\n",
    "\n",
    "            # if dont move because we hit a boundary, do nothing\n",
    "            if (obs['agent'] == loc).all():\n",
    "                continue\n",
    "            new_states.append(obs['agent'])\n",
    "        \n",
    "        for new_state in new_states:\n",
    "            idx_new =mapping[new_state[0], new_state[1]]\n",
    "            T[idx_cur, idx_new] = 1/len(new_states)"
   ]
  },
  {
   "cell_type": "code",
   "execution_count": 11,
   "metadata": {},
   "outputs": [],
   "source": [
    "# for i in range(len(T)):\n",
    "#     print(sum(T[i]))\n",
    "# print(T[-1])\n",
    "assert np.all(np.isclose(np.sum(T, axis=1), 1.0)), \"Not all rows sum to one.\""
   ]
  },
  {
   "cell_type": "code",
   "execution_count": 29,
   "metadata": {},
   "outputs": [],
   "source": [
    "\"\"\"\n",
    "Split our T into T_nn & T_nt\n",
    "T_nn -> transition probability between non-terminal states \n",
    "T_nt = P -> transition probability from non-terminal to terminal states\n",
    "\"\"\"\n",
    "\n",
    "# Make T_nn by excluding the rows and columns associated with the terminal state (also works if we have multiple)\n",
    "target_locs = [target_loc]\n",
    "terminal_indices = [mapping[loc[0], loc[1]] for loc in target_locs]\n",
    "\n",
    "T_nn = T.copy()\n",
    "\n",
    "for index in terminal_indices:\n",
    "    T_nn = np.delete(T_nn, index, axis=0)\n",
    "    T_nn = np.delete(T_nn, index, axis=1)\n",
    "\n",
    "# Make T_nt by selecting only the rows corresponding to the terminal states\n",
    "all_indices = set(range(T.shape[0]-1))\n",
    "nonterminal_indices = all_indices - set(terminal_indices)\n",
    "\n",
    "T_nt = np.zeros((len(T)-1, len(terminal_indices)))\n",
    "\n",
    "for i, index_term in enumerate(terminal_indices):\n",
    "    for index in nonterminal_indices:\n",
    "        T_nt[index, i] = T[index, index_term]"
   ]
  },
  {
   "cell_type": "code",
   "execution_count": 30,
   "metadata": {},
   "outputs": [
    {
     "name": "stdout",
     "output_type": "stream",
     "text": [
      "(20, 20)\n",
      "(19, 1)\n",
      "(19, 19)\n"
     ]
    }
   ],
   "source": [
    "print(T.shape)\n",
    "print(T_nt.shape)\n",
    "print(T_nn.shape)"
   ]
  },
  {
   "cell_type": "code",
   "execution_count": 45,
   "metadata": {},
   "outputs": [
    {
     "name": "stdout",
     "output_type": "stream",
     "text": [
      "(0, 0) [0.]\n",
      "(0, 1) [0.]\n",
      "(0, 2) [0.]\n",
      "(0, 3) [0.]\n",
      "(0, 4) [0.]\n",
      "(1, 0) [0.]\n",
      "(1, 3) [0.]\n",
      "(1, 4) [0.]\n",
      "(2, 0) [0.]\n",
      "(2, 3) [0.]\n",
      "(2, 4) [0.]\n",
      "(3, 0) [0.]\n",
      "(3, 1) [0.]\n",
      "(3, 2) [0.]\n",
      "(3, 4) [0.5]\n",
      "(4, 0) [0.]\n",
      "(4, 1) [0.]\n",
      "(4, 2) [0.]\n",
      "(4, 3) [0.5]\n"
     ]
    }
   ],
   "source": [
    "for i in range(len(T_nt)):\n",
    "    print(reverse_mapping[i], T_nt[i])"
   ]
  },
  {
   "cell_type": "code",
   "execution_count": 90,
   "metadata": {},
   "outputs": [],
   "source": [
    "\"\"\"\n",
    "Now we can use T_nn to solve for our DR (M)\n",
    "\"\"\"\n",
    "_lambda = 1     # define lambda\n",
    "c = np.full(T_nn.shape[0], 1)     # define our cost to be 1 as our reward is negative 1\n",
    "\n",
    "# Make our diagonal matrix\n",
    "diag_matrix = np.diag(np.exp(c / _lambda))\n",
    "\n",
    "# Subtract from T_nn to get L\n",
    "L = diag_matrix - T_nn\n",
    "\n",
    "# Take the inverse to obtain the DR (M)\n",
    "M = np.linalg.inv(L)"
   ]
  },
  {
   "cell_type": "code",
   "execution_count": 91,
   "metadata": {},
   "outputs": [
    {
     "data": {
      "text/plain": [
       "(19, 19)"
      ]
     },
     "execution_count": 91,
     "metadata": {},
     "output_type": "execute_result"
    }
   ],
   "source": [
    "M.shape"
   ]
  },
  {
   "cell_type": "code",
   "execution_count": 92,
   "metadata": {},
   "outputs": [],
   "source": [
    "\"\"\"\n",
    "Now that we have M and P (T_nt), we can solve for exp_v\n",
    "\"\"\"\n",
    "t = len(target_locs)\n",
    "r = np.full(t, 0)  # Create the vector r filled with 2\n",
    "\n",
    "# Calculate the right-hand side (RHS) of the equation\n",
    "exp_v = M @ T_nt @ np.exp(r / _lambda)"
   ]
  },
  {
   "cell_type": "code",
   "execution_count": 93,
   "metadata": {},
   "outputs": [
    {
     "data": {
      "text/plain": [
       "array([2.76464321e-06, 7.51507939e-06, 3.80915643e-05, 1.99572135e-04,\n",
       "       6.14988452e-04, 7.51507939e-06, 9.74399905e-04, 3.14385174e-03,\n",
       "       3.80915643e-05, 4.60265680e-03, 2.40482368e-02, 1.99572135e-04,\n",
       "       9.74399905e-04, 4.60265680e-03, 1.88363147e-01, 6.14988452e-04,\n",
       "       3.14385174e-03, 2.40482368e-02, 1.88363147e-01])"
      ]
     },
     "execution_count": 93,
     "metadata": {},
     "output_type": "execute_result"
    }
   ],
   "source": [
    "exp_v"
   ]
  },
  {
   "cell_type": "code",
   "execution_count": 94,
   "metadata": {},
   "outputs": [
    {
     "name": "stderr",
     "output_type": "stream",
     "text": [
      "/var/folders/sf/4_xlxj4j2r1_sx5v07843wbw0000gn/T/ipykernel_15476/2759705808.py:5: DeprecationWarning: Conversion of an array with ndim > 0 to a scalar is deprecated, and will error in future. Ensure you extract a single element from your array before performing this operation. (Deprecated NumPy 1.25.)\n",
      "  holder[idx] = np.exp(r)\n"
     ]
    }
   ],
   "source": [
    "# we need to add back the terminal states\n",
    "holder = np.zeros(T.shape[0])\n",
    "\n",
    "for idx in terminal_indices:\n",
    "    holder[idx] = np.exp(r)\n",
    "for i, idx in enumerate(nonterminal_indices):\n",
    "    holder[idx] = exp_v[i]"
   ]
  },
  {
   "cell_type": "code",
   "execution_count": 95,
   "metadata": {},
   "outputs": [],
   "source": [
    "exp_v = np.copy(holder)"
   ]
  },
  {
   "cell_type": "code",
   "execution_count": 97,
   "metadata": {},
   "outputs": [],
   "source": [
    "# solve for the optimal policy by choosing the next optimal state\n",
    "# optimal_policy = np.zeros(len(exp_v))\n",
    "# print(optimal_policy.shape, exp_v.shape)\n",
    "# env.reset()\n",
    "\n",
    "# for row in range(maze.shape[0]):\n",
    "#     for col in range(maze.shape[1]):\n",
    "#         # if we hit a barrier or terminal\n",
    "#         if maze[row,col] == '1' or maze[row,col] == 'G':\n",
    "#             continue\n",
    "\n",
    "#         loc = np.array((row,col))\n",
    "#         loc_index = row_col_to_index(row, col, maze.shape[0]-1)\n",
    "\n",
    "#         max_action = 0\n",
    "#         for action in actions:     # loop through actions\n",
    "#             env.unwrapped.agent_loc = loc                  # set new agent location based on where we are in maze\n",
    "#             obs, reward, term, _, _ = env.step(action)     # take action\n",
    "\n",
    "#             # if dont move because we hit a boundary, do nothing\n",
    "#             if (obs['agent'] == loc).all():\n",
    "#                 continue\n",
    "\n",
    "#             succ_state_index = row_col_to_index(obs['agent'][0], obs['agent'][1], maze.shape[0]-1)     # index of successor state\n",
    "#             if exp_v[succ_state_index] > max_action: \n",
    "#                 optimal_policy[loc_index] = action\n",
    "#                 max_action = exp_v[succ_state_index]\n"
   ]
  },
  {
   "cell_type": "code",
   "execution_count": 98,
   "metadata": {},
   "outputs": [
    {
     "name": "stdout",
     "output_type": "stream",
     "text": [
      "[2.76464321e-06 7.51507939e-06 3.80915643e-05 1.99572135e-04\n",
      " 6.14988452e-04 7.51507939e-06 9.74399905e-04 3.14385174e-03\n",
      " 3.80915643e-05 4.60265680e-03 2.40482368e-02 1.99572135e-04\n",
      " 9.74399905e-04 4.60265680e-03 1.88363147e-01 6.14988452e-04\n",
      " 3.14385174e-03 2.40482368e-02 1.88363147e-01 1.00000000e+00]\n",
      "[-12.79859897 -11.79859897 -10.17551771  -8.51933481  -7.39390707\n",
      " -11.79859897  -6.93368876  -5.76230656 -10.17551771  -5.38112158\n",
      "  -3.7276936   -8.51933481  -6.93368876  -5.38112158  -1.66938355\n",
      "  -7.39390707  -5.76230656  -3.7276936   -1.66938355   0.        ]\n"
     ]
    }
   ],
   "source": [
    "print(exp_v)\n",
    "print(np.log(exp_v))"
   ]
  },
  {
   "cell_type": "code",
   "execution_count": 106,
   "metadata": {},
   "outputs": [],
   "source": [
    "v_maze = np.zeros_like(maze)\n",
    "for row in range(v_maze.shape[0]):\n",
    "    for col in range(v_maze.shape[1]):\n",
    "        if maze[row, col] == \"1\":\n",
    "            v_maze[row,col] = \"BAR\"\n",
    "            continue\n",
    "        v_maze[row,col] = round(np.log(exp_v[mapping[(row,col)]]), 2)"
   ]
  },
  {
   "cell_type": "code",
   "execution_count": 107,
   "metadata": {},
   "outputs": [
    {
     "name": "stdout",
     "output_type": "stream",
     "text": [
      "[['-12.8' '-11.8' '-10.18' '-8.52' '-7.39']\n",
      " ['-11.8' 'BAR' 'BAR' '-6.93' '-5.76']\n",
      " ['-10.18' 'BAR' 'BAR' '-5.38' '-3.73']\n",
      " ['-8.52' '-6.93' '-5.38' 'BAR' '-1.67']\n",
      " ['-7.39' '-5.76' '-3.73' '-1.67' '0.0']]\n"
     ]
    }
   ],
   "source": [
    "# Set formatting options\n",
    "print(v_maze)"
   ]
  },
  {
   "cell_type": "code",
   "execution_count": 139,
   "metadata": {},
   "outputs": [
    {
     "name": "stdout",
     "output_type": "stream",
     "text": [
      "[['S' '0' '0' '0' '0']\n",
      " ['0' '1' '1' '0' '0']\n",
      " ['0' '1' '1' '0' '0']\n",
      " ['0' '0' '0' '1' '0']\n",
      " ['0' '0' '0' '0' 'G']]\n"
     ]
    }
   ],
   "source": [
    "print(maze)"
   ]
  },
  {
   "cell_type": "code",
   "execution_count": 12,
   "metadata": {},
   "outputs": [],
   "source": [
    "terminals = np.diag(T) == 1"
   ]
  },
  {
   "cell_type": "code",
   "execution_count": 31,
   "metadata": {},
   "outputs": [],
   "source": [
    "# Define cost and lambda and reward\n",
    "# Calculate L\n",
    "_lambda = 1     # define lambda\n",
    "c = np.full(len(T), 1)     # define our cost to be 1 as our cost is -1\n",
    "c[terminals] = 0\n",
    "r = -c"
   ]
  },
  {
   "cell_type": "code",
   "execution_count": 32,
   "metadata": {},
   "outputs": [],
   "source": [
    "L = np.diag(np.exp(c / _lambda)) - T\n",
    "\n",
    "# Remove rows and columns corresponding to terminals\n",
    "L = np.delete(L, terminals, axis=0)\n",
    "L = np.delete(L, terminals, axis=1)\n",
    "\n",
    "# Calculate the inverse of L\n",
    "M = np.linalg.inv(L)"
   ]
  },
  {
   "cell_type": "code",
   "execution_count": 33,
   "metadata": {},
   "outputs": [
    {
     "data": {
      "text/plain": [
       "(19, 19)"
      ]
     },
     "execution_count": 33,
     "metadata": {},
     "output_type": "execute_result"
    }
   ],
   "source": [
    "M.shape"
   ]
  },
  {
   "cell_type": "code",
   "execution_count": 34,
   "metadata": {},
   "outputs": [],
   "source": [
    "# Calculate P = T_{NT}\n",
    "P = T[~terminals, terminals]\n",
    "\n",
    "# Calculate expr\n",
    "expr = np.exp(r[terminals] / _lambda)\n",
    "\n",
    "# Initialize expv as zeros\n",
    "expv = np.zeros(r.shape)\n",
    "\n",
    "# Calculate expv_N for non-terminal states\n",
    "expv_N = M @ P * expr\n",
    "expv[~terminals] = expv_N\n",
    "\n",
    "# Calculate expv for terminal states\n",
    "expv[terminals] = np.exp(r[terminals] / _lambda)"
   ]
  },
  {
   "cell_type": "code",
   "execution_count": 35,
   "metadata": {},
   "outputs": [
    {
     "data": {
      "text/plain": [
       "array([2.76464321e-06, 7.51507939e-06, 3.80915643e-05, 1.99572135e-04,\n",
       "       6.14988452e-04, 7.51507939e-06, 9.74399905e-04, 3.14385174e-03,\n",
       "       3.80915643e-05, 4.60265680e-03, 2.40482368e-02, 1.99572135e-04,\n",
       "       9.74399905e-04, 4.60265680e-03, 1.88363147e-01, 6.14988452e-04,\n",
       "       3.14385174e-03, 2.40482368e-02, 1.88363147e-01, 1.00000000e+00])"
      ]
     },
     "execution_count": 35,
     "metadata": {},
     "output_type": "execute_result"
    }
   ],
   "source": [
    "expv"
   ]
  },
  {
   "cell_type": "code",
   "execution_count": null,
   "metadata": {},
   "outputs": [],
   "source": []
  }
 ],
 "metadata": {
  "kernelspec": {
   "display_name": "base",
   "language": "python",
   "name": "python3"
  },
  "language_info": {
   "codemirror_mode": {
    "name": "ipython",
    "version": 3
   },
   "file_extension": ".py",
   "mimetype": "text/x-python",
   "name": "python",
   "nbconvert_exporter": "python",
   "pygments_lexer": "ipython3",
   "version": "3.10.12"
  },
  "orig_nbformat": 4
 },
 "nbformat": 4,
 "nbformat_minor": 2
}
